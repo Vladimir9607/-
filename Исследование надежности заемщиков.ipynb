{
 "cells": [
  {
   "cell_type": "markdown",
   "id": "386f2ae7",
   "metadata": {
    "deletable": false,
    "editable": false,
    "id": "386f2ae7"
   },
   "source": [
    "# Исследование надежности заемщиков\n"
   ]
  },
  {
   "cell_type": "markdown",
   "id": "ffe86f65",
   "metadata": {
    "deletable": false,
    "editable": false,
    "id": "ffe86f65"
   },
   "source": [
    "Во второй части проекта вы выполните шаги 3 и 4. Их вручную проверит ревьюер.\n",
    "Чтобы вам не пришлось писать код заново для шагов 1 и 2, мы добавили авторские решения в ячейки с кодом. \n",
    "\n"
   ]
  },
  {
   "cell_type": "markdown",
   "id": "26613308",
   "metadata": {
    "deletable": false,
    "editable": false,
    "id": "26613308"
   },
   "source": [
    "## Откройте таблицу и изучите общую информацию о данных"
   ]
  },
  {
   "cell_type": "markdown",
   "id": "3c9f838e",
   "metadata": {
    "deletable": false,
    "editable": false,
    "id": "3c9f838e"
   },
   "source": [
    "**Задание 1. Импортируйте библиотеку pandas. Считайте данные из csv-файла в датафрейм и сохраните в переменную `data`. Путь к файлу:**\n",
    "\n",
    "`/datasets/data.csv`"
   ]
  },
  {
   "cell_type": "code",
   "execution_count": 1,
   "id": "77a68a90",
   "metadata": {
    "deletable": false,
    "id": "77a68a90"
   },
   "outputs": [],
   "source": [
    "import pandas as pd\n",
    "\n",
    "try:\n",
    "    data = pd.read_csv('/datasets/data.csv')\n",
    "except:\n",
    "    data = pd.read_csv('https://code.s3.yandex.net/datasets/data.csv')"
   ]
  },
  {
   "cell_type": "markdown",
   "id": "45365635",
   "metadata": {
    "deletable": false,
    "editable": false,
    "id": "45365635"
   },
   "source": [
    "**Задание 2. Выведите первые 20 строчек датафрейма `data` на экран.**"
   ]
  },
  {
   "cell_type": "code",
   "execution_count": 2,
   "id": "b0451a9a",
   "metadata": {
    "deletable": false,
    "id": "b0451a9a",
    "outputId": "1a8f3ef2-d323-4ec2-ddf7-89670b5944c4"
   },
   "outputs": [
    {
     "data": {
      "text/html": [
       "<div>\n",
       "<style scoped>\n",
       "    .dataframe tbody tr th:only-of-type {\n",
       "        vertical-align: middle;\n",
       "    }\n",
       "\n",
       "    .dataframe tbody tr th {\n",
       "        vertical-align: top;\n",
       "    }\n",
       "\n",
       "    .dataframe thead th {\n",
       "        text-align: right;\n",
       "    }\n",
       "</style>\n",
       "<table border=\"1\" class=\"dataframe\">\n",
       "  <thead>\n",
       "    <tr style=\"text-align: right;\">\n",
       "      <th></th>\n",
       "      <th>children</th>\n",
       "      <th>days_employed</th>\n",
       "      <th>dob_years</th>\n",
       "      <th>education</th>\n",
       "      <th>education_id</th>\n",
       "      <th>family_status</th>\n",
       "      <th>family_status_id</th>\n",
       "      <th>gender</th>\n",
       "      <th>income_type</th>\n",
       "      <th>debt</th>\n",
       "      <th>total_income</th>\n",
       "      <th>purpose</th>\n",
       "    </tr>\n",
       "  </thead>\n",
       "  <tbody>\n",
       "    <tr>\n",
       "      <th>0</th>\n",
       "      <td>1</td>\n",
       "      <td>-8437.673028</td>\n",
       "      <td>42</td>\n",
       "      <td>высшее</td>\n",
       "      <td>0</td>\n",
       "      <td>женат / замужем</td>\n",
       "      <td>0</td>\n",
       "      <td>F</td>\n",
       "      <td>сотрудник</td>\n",
       "      <td>0</td>\n",
       "      <td>253875.639453</td>\n",
       "      <td>покупка жилья</td>\n",
       "    </tr>\n",
       "    <tr>\n",
       "      <th>1</th>\n",
       "      <td>1</td>\n",
       "      <td>-4024.803754</td>\n",
       "      <td>36</td>\n",
       "      <td>среднее</td>\n",
       "      <td>1</td>\n",
       "      <td>женат / замужем</td>\n",
       "      <td>0</td>\n",
       "      <td>F</td>\n",
       "      <td>сотрудник</td>\n",
       "      <td>0</td>\n",
       "      <td>112080.014102</td>\n",
       "      <td>приобретение автомобиля</td>\n",
       "    </tr>\n",
       "    <tr>\n",
       "      <th>2</th>\n",
       "      <td>0</td>\n",
       "      <td>-5623.422610</td>\n",
       "      <td>33</td>\n",
       "      <td>Среднее</td>\n",
       "      <td>1</td>\n",
       "      <td>женат / замужем</td>\n",
       "      <td>0</td>\n",
       "      <td>M</td>\n",
       "      <td>сотрудник</td>\n",
       "      <td>0</td>\n",
       "      <td>145885.952297</td>\n",
       "      <td>покупка жилья</td>\n",
       "    </tr>\n",
       "    <tr>\n",
       "      <th>3</th>\n",
       "      <td>3</td>\n",
       "      <td>-4124.747207</td>\n",
       "      <td>32</td>\n",
       "      <td>среднее</td>\n",
       "      <td>1</td>\n",
       "      <td>женат / замужем</td>\n",
       "      <td>0</td>\n",
       "      <td>M</td>\n",
       "      <td>сотрудник</td>\n",
       "      <td>0</td>\n",
       "      <td>267628.550329</td>\n",
       "      <td>дополнительное образование</td>\n",
       "    </tr>\n",
       "    <tr>\n",
       "      <th>4</th>\n",
       "      <td>0</td>\n",
       "      <td>340266.072047</td>\n",
       "      <td>53</td>\n",
       "      <td>среднее</td>\n",
       "      <td>1</td>\n",
       "      <td>гражданский брак</td>\n",
       "      <td>1</td>\n",
       "      <td>F</td>\n",
       "      <td>пенсионер</td>\n",
       "      <td>0</td>\n",
       "      <td>158616.077870</td>\n",
       "      <td>сыграть свадьбу</td>\n",
       "    </tr>\n",
       "    <tr>\n",
       "      <th>5</th>\n",
       "      <td>0</td>\n",
       "      <td>-926.185831</td>\n",
       "      <td>27</td>\n",
       "      <td>высшее</td>\n",
       "      <td>0</td>\n",
       "      <td>гражданский брак</td>\n",
       "      <td>1</td>\n",
       "      <td>M</td>\n",
       "      <td>компаньон</td>\n",
       "      <td>0</td>\n",
       "      <td>255763.565419</td>\n",
       "      <td>покупка жилья</td>\n",
       "    </tr>\n",
       "    <tr>\n",
       "      <th>6</th>\n",
       "      <td>0</td>\n",
       "      <td>-2879.202052</td>\n",
       "      <td>43</td>\n",
       "      <td>высшее</td>\n",
       "      <td>0</td>\n",
       "      <td>женат / замужем</td>\n",
       "      <td>0</td>\n",
       "      <td>F</td>\n",
       "      <td>компаньон</td>\n",
       "      <td>0</td>\n",
       "      <td>240525.971920</td>\n",
       "      <td>операции с жильем</td>\n",
       "    </tr>\n",
       "    <tr>\n",
       "      <th>7</th>\n",
       "      <td>0</td>\n",
       "      <td>-152.779569</td>\n",
       "      <td>50</td>\n",
       "      <td>СРЕДНЕЕ</td>\n",
       "      <td>1</td>\n",
       "      <td>женат / замужем</td>\n",
       "      <td>0</td>\n",
       "      <td>M</td>\n",
       "      <td>сотрудник</td>\n",
       "      <td>0</td>\n",
       "      <td>135823.934197</td>\n",
       "      <td>образование</td>\n",
       "    </tr>\n",
       "    <tr>\n",
       "      <th>8</th>\n",
       "      <td>2</td>\n",
       "      <td>-6929.865299</td>\n",
       "      <td>35</td>\n",
       "      <td>ВЫСШЕЕ</td>\n",
       "      <td>0</td>\n",
       "      <td>гражданский брак</td>\n",
       "      <td>1</td>\n",
       "      <td>F</td>\n",
       "      <td>сотрудник</td>\n",
       "      <td>0</td>\n",
       "      <td>95856.832424</td>\n",
       "      <td>на проведение свадьбы</td>\n",
       "    </tr>\n",
       "    <tr>\n",
       "      <th>9</th>\n",
       "      <td>0</td>\n",
       "      <td>-2188.756445</td>\n",
       "      <td>41</td>\n",
       "      <td>среднее</td>\n",
       "      <td>1</td>\n",
       "      <td>женат / замужем</td>\n",
       "      <td>0</td>\n",
       "      <td>M</td>\n",
       "      <td>сотрудник</td>\n",
       "      <td>0</td>\n",
       "      <td>144425.938277</td>\n",
       "      <td>покупка жилья для семьи</td>\n",
       "    </tr>\n",
       "    <tr>\n",
       "      <th>10</th>\n",
       "      <td>2</td>\n",
       "      <td>-4171.483647</td>\n",
       "      <td>36</td>\n",
       "      <td>высшее</td>\n",
       "      <td>0</td>\n",
       "      <td>женат / замужем</td>\n",
       "      <td>0</td>\n",
       "      <td>M</td>\n",
       "      <td>компаньон</td>\n",
       "      <td>0</td>\n",
       "      <td>113943.491460</td>\n",
       "      <td>покупка недвижимости</td>\n",
       "    </tr>\n",
       "    <tr>\n",
       "      <th>11</th>\n",
       "      <td>0</td>\n",
       "      <td>-792.701887</td>\n",
       "      <td>40</td>\n",
       "      <td>среднее</td>\n",
       "      <td>1</td>\n",
       "      <td>женат / замужем</td>\n",
       "      <td>0</td>\n",
       "      <td>F</td>\n",
       "      <td>сотрудник</td>\n",
       "      <td>0</td>\n",
       "      <td>77069.234271</td>\n",
       "      <td>покупка коммерческой недвижимости</td>\n",
       "    </tr>\n",
       "    <tr>\n",
       "      <th>12</th>\n",
       "      <td>0</td>\n",
       "      <td>NaN</td>\n",
       "      <td>65</td>\n",
       "      <td>среднее</td>\n",
       "      <td>1</td>\n",
       "      <td>гражданский брак</td>\n",
       "      <td>1</td>\n",
       "      <td>M</td>\n",
       "      <td>пенсионер</td>\n",
       "      <td>0</td>\n",
       "      <td>NaN</td>\n",
       "      <td>сыграть свадьбу</td>\n",
       "    </tr>\n",
       "    <tr>\n",
       "      <th>13</th>\n",
       "      <td>0</td>\n",
       "      <td>-1846.641941</td>\n",
       "      <td>54</td>\n",
       "      <td>неоконченное высшее</td>\n",
       "      <td>2</td>\n",
       "      <td>женат / замужем</td>\n",
       "      <td>0</td>\n",
       "      <td>F</td>\n",
       "      <td>сотрудник</td>\n",
       "      <td>0</td>\n",
       "      <td>130458.228857</td>\n",
       "      <td>приобретение автомобиля</td>\n",
       "    </tr>\n",
       "    <tr>\n",
       "      <th>14</th>\n",
       "      <td>0</td>\n",
       "      <td>-1844.956182</td>\n",
       "      <td>56</td>\n",
       "      <td>высшее</td>\n",
       "      <td>0</td>\n",
       "      <td>гражданский брак</td>\n",
       "      <td>1</td>\n",
       "      <td>F</td>\n",
       "      <td>компаньон</td>\n",
       "      <td>1</td>\n",
       "      <td>165127.911772</td>\n",
       "      <td>покупка жилой недвижимости</td>\n",
       "    </tr>\n",
       "    <tr>\n",
       "      <th>15</th>\n",
       "      <td>1</td>\n",
       "      <td>-972.364419</td>\n",
       "      <td>26</td>\n",
       "      <td>среднее</td>\n",
       "      <td>1</td>\n",
       "      <td>женат / замужем</td>\n",
       "      <td>0</td>\n",
       "      <td>F</td>\n",
       "      <td>сотрудник</td>\n",
       "      <td>0</td>\n",
       "      <td>116820.904450</td>\n",
       "      <td>строительство собственной недвижимости</td>\n",
       "    </tr>\n",
       "    <tr>\n",
       "      <th>16</th>\n",
       "      <td>0</td>\n",
       "      <td>-1719.934226</td>\n",
       "      <td>35</td>\n",
       "      <td>среднее</td>\n",
       "      <td>1</td>\n",
       "      <td>женат / замужем</td>\n",
       "      <td>0</td>\n",
       "      <td>F</td>\n",
       "      <td>сотрудник</td>\n",
       "      <td>0</td>\n",
       "      <td>289202.704229</td>\n",
       "      <td>недвижимость</td>\n",
       "    </tr>\n",
       "    <tr>\n",
       "      <th>17</th>\n",
       "      <td>0</td>\n",
       "      <td>-2369.999720</td>\n",
       "      <td>33</td>\n",
       "      <td>высшее</td>\n",
       "      <td>0</td>\n",
       "      <td>гражданский брак</td>\n",
       "      <td>1</td>\n",
       "      <td>M</td>\n",
       "      <td>сотрудник</td>\n",
       "      <td>0</td>\n",
       "      <td>90410.586745</td>\n",
       "      <td>строительство недвижимости</td>\n",
       "    </tr>\n",
       "    <tr>\n",
       "      <th>18</th>\n",
       "      <td>0</td>\n",
       "      <td>400281.136913</td>\n",
       "      <td>53</td>\n",
       "      <td>среднее</td>\n",
       "      <td>1</td>\n",
       "      <td>вдовец / вдова</td>\n",
       "      <td>2</td>\n",
       "      <td>F</td>\n",
       "      <td>пенсионер</td>\n",
       "      <td>0</td>\n",
       "      <td>56823.777243</td>\n",
       "      <td>на покупку подержанного автомобиля</td>\n",
       "    </tr>\n",
       "    <tr>\n",
       "      <th>19</th>\n",
       "      <td>0</td>\n",
       "      <td>-10038.818549</td>\n",
       "      <td>48</td>\n",
       "      <td>СРЕДНЕЕ</td>\n",
       "      <td>1</td>\n",
       "      <td>в разводе</td>\n",
       "      <td>3</td>\n",
       "      <td>F</td>\n",
       "      <td>сотрудник</td>\n",
       "      <td>0</td>\n",
       "      <td>242831.107982</td>\n",
       "      <td>на покупку своего автомобиля</td>\n",
       "    </tr>\n",
       "  </tbody>\n",
       "</table>\n",
       "</div>"
      ],
      "text/plain": [
       "    children  days_employed  dob_years            education  education_id  \\\n",
       "0          1   -8437.673028         42               высшее             0   \n",
       "1          1   -4024.803754         36              среднее             1   \n",
       "2          0   -5623.422610         33              Среднее             1   \n",
       "3          3   -4124.747207         32              среднее             1   \n",
       "4          0  340266.072047         53              среднее             1   \n",
       "5          0    -926.185831         27               высшее             0   \n",
       "6          0   -2879.202052         43               высшее             0   \n",
       "7          0    -152.779569         50              СРЕДНЕЕ             1   \n",
       "8          2   -6929.865299         35               ВЫСШЕЕ             0   \n",
       "9          0   -2188.756445         41              среднее             1   \n",
       "10         2   -4171.483647         36               высшее             0   \n",
       "11         0    -792.701887         40              среднее             1   \n",
       "12         0            NaN         65              среднее             1   \n",
       "13         0   -1846.641941         54  неоконченное высшее             2   \n",
       "14         0   -1844.956182         56               высшее             0   \n",
       "15         1    -972.364419         26              среднее             1   \n",
       "16         0   -1719.934226         35              среднее             1   \n",
       "17         0   -2369.999720         33               высшее             0   \n",
       "18         0  400281.136913         53              среднее             1   \n",
       "19         0  -10038.818549         48              СРЕДНЕЕ             1   \n",
       "\n",
       "       family_status  family_status_id gender income_type  debt  \\\n",
       "0    женат / замужем                 0      F   сотрудник     0   \n",
       "1    женат / замужем                 0      F   сотрудник     0   \n",
       "2    женат / замужем                 0      M   сотрудник     0   \n",
       "3    женат / замужем                 0      M   сотрудник     0   \n",
       "4   гражданский брак                 1      F   пенсионер     0   \n",
       "5   гражданский брак                 1      M   компаньон     0   \n",
       "6    женат / замужем                 0      F   компаньон     0   \n",
       "7    женат / замужем                 0      M   сотрудник     0   \n",
       "8   гражданский брак                 1      F   сотрудник     0   \n",
       "9    женат / замужем                 0      M   сотрудник     0   \n",
       "10   женат / замужем                 0      M   компаньон     0   \n",
       "11   женат / замужем                 0      F   сотрудник     0   \n",
       "12  гражданский брак                 1      M   пенсионер     0   \n",
       "13   женат / замужем                 0      F   сотрудник     0   \n",
       "14  гражданский брак                 1      F   компаньон     1   \n",
       "15   женат / замужем                 0      F   сотрудник     0   \n",
       "16   женат / замужем                 0      F   сотрудник     0   \n",
       "17  гражданский брак                 1      M   сотрудник     0   \n",
       "18    вдовец / вдова                 2      F   пенсионер     0   \n",
       "19         в разводе                 3      F   сотрудник     0   \n",
       "\n",
       "     total_income                                 purpose  \n",
       "0   253875.639453                           покупка жилья  \n",
       "1   112080.014102                 приобретение автомобиля  \n",
       "2   145885.952297                           покупка жилья  \n",
       "3   267628.550329              дополнительное образование  \n",
       "4   158616.077870                         сыграть свадьбу  \n",
       "5   255763.565419                           покупка жилья  \n",
       "6   240525.971920                       операции с жильем  \n",
       "7   135823.934197                             образование  \n",
       "8    95856.832424                   на проведение свадьбы  \n",
       "9   144425.938277                 покупка жилья для семьи  \n",
       "10  113943.491460                    покупка недвижимости  \n",
       "11   77069.234271       покупка коммерческой недвижимости  \n",
       "12            NaN                         сыграть свадьбу  \n",
       "13  130458.228857                 приобретение автомобиля  \n",
       "14  165127.911772              покупка жилой недвижимости  \n",
       "15  116820.904450  строительство собственной недвижимости  \n",
       "16  289202.704229                            недвижимость  \n",
       "17   90410.586745              строительство недвижимости  \n",
       "18   56823.777243      на покупку подержанного автомобиля  \n",
       "19  242831.107982            на покупку своего автомобиля  "
      ]
     },
     "execution_count": 2,
     "metadata": {},
     "output_type": "execute_result"
    }
   ],
   "source": [
    "data.head(20)"
   ]
  },
  {
   "cell_type": "markdown",
   "id": "0ed8f27f",
   "metadata": {
    "deletable": false,
    "editable": false,
    "id": "0ed8f27f"
   },
   "source": [
    "**Задание 3. Выведите основную информацию о датафрейме с помощью метода `info()`.**"
   ]
  },
  {
   "cell_type": "code",
   "execution_count": 3,
   "id": "ab3f863b",
   "metadata": {
    "deletable": false,
    "id": "ab3f863b",
    "outputId": "15376089-8dad-46c9-b520-c05248d43158"
   },
   "outputs": [
    {
     "name": "stdout",
     "output_type": "stream",
     "text": [
      "<class 'pandas.core.frame.DataFrame'>\n",
      "RangeIndex: 21525 entries, 0 to 21524\n",
      "Data columns (total 12 columns):\n",
      " #   Column            Non-Null Count  Dtype  \n",
      "---  ------            --------------  -----  \n",
      " 0   children          21525 non-null  int64  \n",
      " 1   days_employed     19351 non-null  float64\n",
      " 2   dob_years         21525 non-null  int64  \n",
      " 3   education         21525 non-null  object \n",
      " 4   education_id      21525 non-null  int64  \n",
      " 5   family_status     21525 non-null  object \n",
      " 6   family_status_id  21525 non-null  int64  \n",
      " 7   gender            21525 non-null  object \n",
      " 8   income_type       21525 non-null  object \n",
      " 9   debt              21525 non-null  int64  \n",
      " 10  total_income      19351 non-null  float64\n",
      " 11  purpose           21525 non-null  object \n",
      "dtypes: float64(2), int64(5), object(5)\n",
      "memory usage: 2.0+ MB\n"
     ]
    }
   ],
   "source": [
    "data.info()"
   ]
  },
  {
   "cell_type": "markdown",
   "id": "60e3e22d",
   "metadata": {
    "deletable": false,
    "editable": false,
    "id": "60e3e22d"
   },
   "source": [
    "## Предобработка данных"
   ]
  },
  {
   "cell_type": "markdown",
   "id": "03dc170c",
   "metadata": {
    "deletable": false,
    "editable": false,
    "id": "03dc170c"
   },
   "source": [
    "### Удаление пропусков"
   ]
  },
  {
   "cell_type": "markdown",
   "id": "a4f54eef",
   "metadata": {
    "deletable": false,
    "editable": false,
    "id": "a4f54eef"
   },
   "source": [
    "**Задание 4. Выведите количество пропущенных значений для каждого столбца. Используйте комбинацию двух методов.**"
   ]
  },
  {
   "cell_type": "code",
   "execution_count": 4,
   "id": "2dc372b2",
   "metadata": {
    "deletable": false,
    "id": "2dc372b2",
    "outputId": "81f4d817-781c-465c-ed15-91ce4446810d"
   },
   "outputs": [
    {
     "data": {
      "text/plain": [
       "children               0\n",
       "days_employed       2174\n",
       "dob_years              0\n",
       "education              0\n",
       "education_id           0\n",
       "family_status          0\n",
       "family_status_id       0\n",
       "gender                 0\n",
       "income_type            0\n",
       "debt                   0\n",
       "total_income        2174\n",
       "purpose                0\n",
       "dtype: int64"
      ]
     },
     "execution_count": 4,
     "metadata": {},
     "output_type": "execute_result"
    }
   ],
   "source": [
    "data.isna().sum()"
   ]
  },
  {
   "cell_type": "markdown",
   "id": "14f011b1",
   "metadata": {
    "deletable": false,
    "editable": false,
    "id": "14f011b1"
   },
   "source": [
    "**Задание 5. В двух столбцах есть пропущенные значения. Один из них — `days_employed`. Пропуски в этом столбце вы обработаете на следующем этапе. Другой столбец с пропущенными значениями — `total_income` — хранит данные о доходах. На сумму дохода сильнее всего влияет тип занятости, поэтому заполнить пропуски в этом столбце нужно медианным значением по каждому типу из столбца `income_type`. Например, у человека с типом занятости `сотрудник` пропуск в столбце `total_income` должен быть заполнен медианным доходом среди всех записей с тем же типом.**"
   ]
  },
  {
   "cell_type": "code",
   "execution_count": 5,
   "id": "bdabfb6e",
   "metadata": {
    "deletable": false,
    "id": "bdabfb6e"
   },
   "outputs": [],
   "source": [
    "for t in data['income_type'].unique():\n",
    "    data.loc[(data['income_type'] == t) & (data['total_income'].isna()), 'total_income'] = \\\n",
    "    data.loc[(data['income_type'] == t), 'total_income'].median()"
   ]
  },
  {
   "cell_type": "markdown",
   "id": "5be34059",
   "metadata": {
    "deletable": false,
    "editable": false,
    "id": "5be34059"
   },
   "source": [
    "### Обработка аномальных значений"
   ]
  },
  {
   "cell_type": "markdown",
   "id": "a87606cb",
   "metadata": {
    "deletable": false,
    "editable": false,
    "id": "a87606cb"
   },
   "source": [
    "**Задание 6. В данных могут встречаться артефакты (аномалии) — значения, которые не отражают действительность и появились по какой-то ошибке. таким артефактом будет отрицательное количество дней трудового стажа в столбце `days_employed`. Для реальных данных это нормально. Обработайте значения в этом столбце: замените все отрицательные значения положительными с помощью метода `abs()`.**"
   ]
  },
  {
   "cell_type": "code",
   "execution_count": 6,
   "id": "020c46cc",
   "metadata": {
    "deletable": false,
    "id": "020c46cc"
   },
   "outputs": [],
   "source": [
    "data['days_employed'] = data['days_employed'].abs()"
   ]
  },
  {
   "cell_type": "markdown",
   "id": "45538a3a",
   "metadata": {
    "deletable": false,
    "editable": false,
    "id": "45538a3a"
   },
   "source": [
    "**Задание 7. Для каждого типа занятости выведите медианное значение трудового стажа `days_employed` в днях.**"
   ]
  },
  {
   "cell_type": "code",
   "execution_count": 7,
   "id": "cd3e6328",
   "metadata": {
    "deletable": false,
    "id": "cd3e6328",
    "outputId": "801ef80e-522b-4668-f34e-565af7432bcf"
   },
   "outputs": [
    {
     "data": {
      "text/plain": [
       "income_type\n",
       "безработный        366413.652744\n",
       "в декрете            3296.759962\n",
       "госслужащий          2689.368353\n",
       "компаньон            1547.382223\n",
       "пенсионер          365213.306266\n",
       "предприниматель       520.848083\n",
       "сотрудник            1574.202821\n",
       "студент               578.751554\n",
       "Name: days_employed, dtype: float64"
      ]
     },
     "execution_count": 7,
     "metadata": {},
     "output_type": "execute_result"
    }
   ],
   "source": [
    "data.groupby('income_type')['days_employed'].agg('median')"
   ]
  },
  {
   "cell_type": "markdown",
   "id": "90c5f058",
   "metadata": {
    "deletable": false,
    "editable": false,
    "id": "90c5f058"
   },
   "source": [
    "У двух типов (безработные и пенсионеры) получатся аномально большие значения. Исправить такие значения сложно, поэтому оставьте их как есть."
   ]
  },
  {
   "cell_type": "markdown",
   "id": "9652e50d",
   "metadata": {
    "deletable": false,
    "editable": false,
    "id": "9652e50d"
   },
   "source": [
    "**Задание 8. Выведите перечень уникальных значений столбца `children`.**"
   ]
  },
  {
   "cell_type": "code",
   "execution_count": 8,
   "id": "dbb37b8e",
   "metadata": {
    "deletable": false,
    "id": "dbb37b8e",
    "outputId": "6975b15c-7f95-4697-d16d-a0c79b657b03"
   },
   "outputs": [
    {
     "data": {
      "text/plain": [
       "array([ 1,  0,  3,  2, -1,  4, 20,  5])"
      ]
     },
     "execution_count": 8,
     "metadata": {},
     "output_type": "execute_result"
    }
   ],
   "source": [
    "data['children'].unique()"
   ]
  },
  {
   "cell_type": "markdown",
   "id": "2b8b0715",
   "metadata": {
    "deletable": false,
    "editable": false,
    "id": "2b8b0715"
   },
   "source": [
    "**Задание 9. В столбце `children` есть два аномальных значения. Удалите строки, в которых встречаются такие аномальные значения из датафрейма `data`.**"
   ]
  },
  {
   "cell_type": "code",
   "execution_count": 9,
   "id": "20009df8",
   "metadata": {
    "deletable": false,
    "id": "20009df8"
   },
   "outputs": [],
   "source": [
    "data = data[(data['children'] != -1) & (data['children'] != 20)]"
   ]
  },
  {
   "cell_type": "markdown",
   "id": "8c6ac9f1",
   "metadata": {
    "deletable": false,
    "editable": false,
    "id": "8c6ac9f1"
   },
   "source": [
    "**Задание 10. Ещё раз выведите перечень уникальных значений столбца `children`, чтобы убедиться, что артефакты удалены.**"
   ]
  },
  {
   "cell_type": "code",
   "execution_count": 10,
   "id": "07337b81",
   "metadata": {
    "deletable": false,
    "id": "07337b81",
    "outputId": "b2097101-d49d-44d9-901b-32a65c9463d1"
   },
   "outputs": [
    {
     "data": {
      "text/plain": [
       "array([1, 0, 3, 2, 4, 5])"
      ]
     },
     "execution_count": 10,
     "metadata": {},
     "output_type": "execute_result"
    }
   ],
   "source": [
    "data['children'].unique()"
   ]
  },
  {
   "cell_type": "markdown",
   "id": "ee3f52d4",
   "metadata": {
    "deletable": false,
    "editable": false,
    "id": "ee3f52d4"
   },
   "source": [
    "### Удаление пропусков (продолжение)"
   ]
  },
  {
   "cell_type": "markdown",
   "id": "a700b0e4",
   "metadata": {
    "deletable": false,
    "editable": false,
    "id": "a700b0e4"
   },
   "source": [
    "**Задание 11. Заполните пропуски в столбце `days_employed` медианными значениями по каждого типа занятости `income_type`.**"
   ]
  },
  {
   "cell_type": "code",
   "execution_count": 11,
   "id": "61946b83",
   "metadata": {
    "deletable": false,
    "id": "61946b83"
   },
   "outputs": [],
   "source": [
    "for t in data['income_type'].unique():\n",
    "    data.loc[(data['income_type'] == t) & (data['days_employed'].isna()), 'days_employed'] = \\\n",
    "    data.loc[(data['income_type'] == t), 'days_employed'].median()"
   ]
  },
  {
   "cell_type": "markdown",
   "id": "550dcd9b",
   "metadata": {
    "deletable": false,
    "editable": false,
    "id": "550dcd9b"
   },
   "source": [
    "**Задание 12. Убедитесь, что все пропуски заполнены. Проверьте себя и ещё раз выведите количество пропущенных значений для каждого столбца с помощью двух методов.**"
   ]
  },
  {
   "cell_type": "code",
   "execution_count": 12,
   "id": "937c7014",
   "metadata": {
    "deletable": false,
    "id": "937c7014",
    "outputId": "8da1e4e1-358e-4e87-98c9-f261bce0a7b2"
   },
   "outputs": [
    {
     "data": {
      "text/plain": [
       "children            0\n",
       "days_employed       0\n",
       "dob_years           0\n",
       "education           0\n",
       "education_id        0\n",
       "family_status       0\n",
       "family_status_id    0\n",
       "gender              0\n",
       "income_type         0\n",
       "debt                0\n",
       "total_income        0\n",
       "purpose             0\n",
       "dtype: int64"
      ]
     },
     "execution_count": 12,
     "metadata": {},
     "output_type": "execute_result"
    }
   ],
   "source": [
    "data.isna().sum()"
   ]
  },
  {
   "cell_type": "markdown",
   "id": "d522e295",
   "metadata": {
    "deletable": false,
    "editable": false,
    "id": "d522e295"
   },
   "source": [
    "### Изменение типов данных"
   ]
  },
  {
   "cell_type": "markdown",
   "id": "c229c581",
   "metadata": {
    "deletable": false,
    "editable": false,
    "id": "c229c581"
   },
   "source": [
    "**Задание 13. Замените вещественный тип данных в столбце `total_income` на целочисленный с помощью метода `astype()`.**"
   ]
  },
  {
   "cell_type": "code",
   "execution_count": 13,
   "id": "31036462",
   "metadata": {
    "deletable": false,
    "id": "31036462"
   },
   "outputs": [],
   "source": [
    "data['total_income'] = data['total_income'].astype(int)"
   ]
  },
  {
   "cell_type": "markdown",
   "id": "b8e3d1d9",
   "metadata": {
    "deletable": false,
    "editable": false,
    "id": "b8e3d1d9"
   },
   "source": [
    "### Обработка дубликатов"
   ]
  },
  {
   "cell_type": "markdown",
   "id": "9be53c49",
   "metadata": {
    "deletable": false,
    "editable": false,
    "id": "9be53c49"
   },
   "source": [
    "**Задание 14. Обработайте неявные дубликаты в столбце `education`. В этом столбце есть одни и те же значения, но записанные по-разному: с использованием заглавных и строчных букв. Приведите их к нижнему регистру.**"
   ]
  },
  {
   "cell_type": "code",
   "execution_count": 14,
   "id": "d89e73e1",
   "metadata": {
    "deletable": false,
    "id": "d89e73e1"
   },
   "outputs": [],
   "source": [
    "data['education'] = data['education'].str.lower()"
   ]
  },
  {
   "cell_type": "markdown",
   "id": "01d4500e",
   "metadata": {
    "deletable": false,
    "editable": false,
    "id": "01d4500e"
   },
   "source": [
    "**Задание 15. Выведите на экран количество строк-дубликатов в данных. Если такие строки присутствуют, удалите их.**"
   ]
  },
  {
   "cell_type": "code",
   "execution_count": 15,
   "id": "e10efb23",
   "metadata": {
    "deletable": false,
    "id": "e10efb23",
    "outputId": "9684deba-1934-42d1-99e1-cda61740f822"
   },
   "outputs": [
    {
     "data": {
      "text/plain": [
       "71"
      ]
     },
     "execution_count": 15,
     "metadata": {},
     "output_type": "execute_result"
    }
   ],
   "source": [
    "data.duplicated().sum()"
   ]
  },
  {
   "cell_type": "code",
   "execution_count": 16,
   "id": "df853f20",
   "metadata": {
    "deletable": false,
    "id": "df853f20"
   },
   "outputs": [],
   "source": [
    "data = data.drop_duplicates()"
   ]
  },
  {
   "cell_type": "markdown",
   "id": "627be38f",
   "metadata": {
    "deletable": false,
    "editable": false,
    "id": "627be38f"
   },
   "source": [
    "### Категоризация данных"
   ]
  },
  {
   "cell_type": "markdown",
   "id": "4684c3e0",
   "metadata": {
    "deletable": false,
    "editable": false,
    "id": "4684c3e0"
   },
   "source": [
    "**Задание 16. На основании диапазонов, указанных ниже, создайте в датафрейме `data` столбец `total_income_category` с категориями:**\n",
    "\n",
    "- 0–30000 — `'E'`;\n",
    "- 30001–50000 — `'D'`;\n",
    "- 50001–200000 — `'C'`;\n",
    "- 200001–1000000 — `'B'`;\n",
    "- 1000001 и выше — `'A'`.\n",
    "\n",
    "\n",
    "**Например, кредитополучателю с доходом 25000 нужно назначить категорию `'E'`, а клиенту, получающему 235000, — `'B'`. Используйте собственную функцию с именем `categorize_income()` и метод `apply()`.**"
   ]
  },
  {
   "cell_type": "code",
   "execution_count": 17,
   "id": "78965238",
   "metadata": {
    "deletable": false,
    "id": "78965238"
   },
   "outputs": [],
   "source": [
    "def categorize_income(income):\n",
    "    try:\n",
    "        if 0 <= income <= 30000:\n",
    "            return 'E'\n",
    "        elif 30001 <= income <= 50000:\n",
    "            return 'D'\n",
    "        elif 50001 <= income <= 200000:\n",
    "            return 'C'\n",
    "        elif 200001 <= income <= 1000000:\n",
    "            return 'B'\n",
    "        elif income >= 1000001:\n",
    "            return 'A'\n",
    "    except:\n",
    "        pass"
   ]
  },
  {
   "cell_type": "code",
   "execution_count": 18,
   "id": "0980ada1",
   "metadata": {
    "deletable": false,
    "id": "0980ada1"
   },
   "outputs": [],
   "source": [
    "data['total_income_category'] = data['total_income'].apply(categorize_income)"
   ]
  },
  {
   "cell_type": "markdown",
   "id": "9917bba0",
   "metadata": {
    "deletable": false,
    "editable": false,
    "id": "9917bba0"
   },
   "source": [
    "**Задание 17. Выведите на экран перечень уникальных целей взятия кредита из столбца `purpose`.**"
   ]
  },
  {
   "cell_type": "code",
   "execution_count": 19,
   "id": "ee07b65e",
   "metadata": {
    "deletable": false,
    "id": "ee07b65e",
    "outputId": "673c12d9-7d7e-4ae0-9812-c622c89dd244"
   },
   "outputs": [
    {
     "data": {
      "text/plain": [
       "array(['покупка жилья', 'приобретение автомобиля',\n",
       "       'дополнительное образование', 'сыграть свадьбу',\n",
       "       'операции с жильем', 'образование', 'на проведение свадьбы',\n",
       "       'покупка жилья для семьи', 'покупка недвижимости',\n",
       "       'покупка коммерческой недвижимости', 'покупка жилой недвижимости',\n",
       "       'строительство собственной недвижимости', 'недвижимость',\n",
       "       'строительство недвижимости', 'на покупку подержанного автомобиля',\n",
       "       'на покупку своего автомобиля',\n",
       "       'операции с коммерческой недвижимостью',\n",
       "       'строительство жилой недвижимости', 'жилье',\n",
       "       'операции со своей недвижимостью', 'автомобили',\n",
       "       'заняться образованием', 'сделка с подержанным автомобилем',\n",
       "       'получение образования', 'автомобиль', 'свадьба',\n",
       "       'получение дополнительного образования', 'покупка своего жилья',\n",
       "       'операции с недвижимостью', 'получение высшего образования',\n",
       "       'свой автомобиль', 'сделка с автомобилем',\n",
       "       'профильное образование', 'высшее образование',\n",
       "       'покупка жилья для сдачи', 'на покупку автомобиля', 'ремонт жилью',\n",
       "       'заняться высшим образованием'], dtype=object)"
      ]
     },
     "execution_count": 19,
     "metadata": {},
     "output_type": "execute_result"
    }
   ],
   "source": [
    "data['purpose'].unique()"
   ]
  },
  {
   "cell_type": "markdown",
   "id": "52b79d56",
   "metadata": {
    "deletable": false,
    "editable": false,
    "id": "52b79d56"
   },
   "source": [
    "**Задание 18. Создайте функцию, которая на основании данных из столбца `purpose` сформирует новый столбец `purpose_category`, в который войдут следующие категории:**\n",
    "\n",
    "- `'операции с автомобилем'`,\n",
    "- `'операции с недвижимостью'`,\n",
    "- `'проведение свадьбы'`,\n",
    "- `'получение образования'`.\n",
    "\n",
    "**Например, если в столбце `purpose` находится подстрока `'на покупку автомобиля'`, то в столбце `purpose_category` должна появиться строка `'операции с автомобилем'`.**\n",
    "\n",
    "**Используйте собственную функцию с именем `categorize_purpose()` и метод `apply()`. Изучите данные в столбце `purpose` и определите, какие подстроки помогут вам правильно определить категорию.**"
   ]
  },
  {
   "cell_type": "code",
   "execution_count": 20,
   "id": "be41da5d",
   "metadata": {
    "deletable": false,
    "id": "be41da5d"
   },
   "outputs": [],
   "source": [
    "def categorize_purpose(row):\n",
    "    try:\n",
    "        if 'автом' in row:\n",
    "            return 'операции с автомобилем'\n",
    "        elif 'жил' in row or 'недвиж' in row:\n",
    "            return 'операции с недвижимостью'\n",
    "        elif 'свад' in row:\n",
    "            return 'проведение свадьбы'\n",
    "        elif 'образов' in row:\n",
    "            return 'получение образования'\n",
    "    except:\n",
    "        return 'нет категории'"
   ]
  },
  {
   "cell_type": "code",
   "execution_count": 21,
   "id": "94c4a19a",
   "metadata": {
    "deletable": false,
    "id": "94c4a19a"
   },
   "outputs": [],
   "source": [
    "data['purpose_category'] = data['purpose'].apply(categorize_purpose)"
   ]
  },
  {
   "cell_type": "markdown",
   "id": "3d596c34",
   "metadata": {
    "deletable": false,
    "editable": false,
    "id": "3d596c34"
   },
   "source": [
    "### Шаг 3. Исследуйте данные и ответьте на вопросы"
   ]
  },
  {
   "cell_type": "markdown",
   "id": "648db036",
   "metadata": {
    "deletable": false,
    "editable": false,
    "id": "648db036"
   },
   "source": [
    "#### 3.1 Есть ли зависимость между количеством детей и возвратом кредита в срок?"
   ]
  },
  {
   "cell_type": "code",
   "execution_count": 22,
   "id": "7fcff25e",
   "metadata": {
    "deletable": false,
    "id": "7fcff25e",
    "scrolled": true
   },
   "outputs": [
    {
     "name": "stdout",
     "output_type": "stream",
     "text": [
      "                    нет долга  есть долг % должников\n",
      "number_of_children                                  \n",
      "нет детей               13028       1063       7.54%\n",
      "3 и более                 349         31       8.16%\n",
      "1 ребенок                4364        444       9.23%\n",
      "2 детей                  1858        194       9.45%\n",
      "\n",
      "Разница между минимальным и максимальным значением: 1.91 %\n"
     ]
    }
   ],
   "source": [
    "# Так как людей имеющих 4 ребенка и более мало, можно обьеденить их с помощью функции. Затем добавим новый столбец.\n",
    "\n",
    "def deti(children):\n",
    "    if children == 1:\n",
    "        return '1 ребенок'\n",
    "    elif children == 2:\n",
    "        return '2 детей'\n",
    "    elif children >= 3:\n",
    "        return '3 и более'\n",
    "    return 'нет детей'\n",
    "\n",
    "data['number_of_children'] = data['children'].apply(deti)\n",
    "\n",
    "\n",
    "# Составим таблицу tablica_one с помощью pivot_table(), создаем столбцы с названием 'нет долга', 'есть долг'\n",
    "\n",
    "tablica_one = data.pivot_table(index='number_of_children', columns='debt', values='gender', aggfunc='count')\n",
    "tablica_one.columns = ['нет долга', 'есть долг']\n",
    "\n",
    "# Считаем долю должников, добавляя столбцец в таблицу, а так же находим разницу между максимальным и минимальным значением\n",
    "\n",
    "tablica_one['% должников'] = tablica_one['есть долг'] / (tablica_one['есть долг'] + tablica_one['нет долга'])\n",
    "\n",
    "x_d = tablica_one['% должников'].max()\n",
    "y_d = tablica_one['% должников'].min()\n",
    "ddd = (x_d - y_d)*100\n",
    "\n",
    "# переводим значения столбца в %\n",
    "\n",
    "tablica_one['% должников'] = tablica_one['% должников'].map('{:.2%}'.format)\n",
    "\n",
    "\n",
    "# Печатаем результат\n",
    "\n",
    "print(tablica_one.sort_values(by='% должников', ascending=True))\n",
    "print()\n",
    "print('Разница между минимальным и максимальным значением:', ddd.round(2), '%')\n",
    "\n",
    "\n",
    "# Я случайно \"сломал\" коментарий с замечанием"
   ]
  },
  {
   "cell_type": "markdown",
   "id": "2eb9088e",
   "metadata": {
    "deletable": false,
    "id": "2eb9088e"
   },
   "source": [
    "**Вывод:** Самая меньшая просрочка по предитам составляет у клиентов, не имеющий детей. Более 9% клиентов, имеющие задолженность по кредиту являются сотрудники у которых 1 и 2 ребенка. 9,45% клиентов, имеющие долг по кредиту, являются клиенты у которых 2 ребенка, что на 1,91% меньше чем у клиентов не имеющих детей."
   ]
  },
  {
   "cell_type": "markdown",
   "id": "74c9b3a7",
   "metadata": {
    "deletable": false,
    "editable": false,
    "id": "74c9b3a7"
   },
   "source": [
    "#### 3.2 Есть ли зависимость между семейным положением и возвратом кредита в срок?"
   ]
  },
  {
   "cell_type": "code",
   "execution_count": 23,
   "id": "8098ab3b",
   "metadata": {
    "deletable": false,
    "id": "8098ab3b"
   },
   "outputs": [
    {
     "name": "stdout",
     "output_type": "stream",
     "text": [
      "                       нет долга  есть долг % должников\n",
      "family_status                                          \n",
      "вдовец / вдова               888         63       6.62%\n",
      "в разводе                   1105         84       7.06%\n",
      "женат / замужем            11334        927       7.56%\n",
      "гражданский брак            3749        385       9.31%\n",
      "Не женат / не замужем       2523        273       9.76%\n",
      "\n",
      "Разница между минимальным и максимальным значением: 3.14 %\n"
     ]
    }
   ],
   "source": [
    "\n",
    "\n",
    "tablica_two = data.pivot_table(index='family_status', columns='debt', values='gender', aggfunc='count')\n",
    "tablica_two.columns = ['нет долга', 'есть долг']\n",
    "\n",
    "tablica_two['% должников'] = tablica_two['есть долг'] / (tablica_two['есть долг'] + tablica_two['нет долга'])\n",
    "\n",
    "x_f = tablica_two['% должников'].max()\n",
    "y_f = tablica_two['% должников'].min()\n",
    "fff = (x_f - y_f)*100\n",
    "\n",
    "tablica_two['% должников'] = tablica_two['% должников'].map('{:.2%}'.format)\n",
    "\n",
    "print(tablica_two.sort_values(by='% должников', ascending=True))\n",
    "print()\n",
    "print('Разница между минимальным и максимальным значением:', fff.round(2), '%')\n"
   ]
  },
  {
   "cell_type": "markdown",
   "id": "c389ca63",
   "metadata": {
    "deletable": false,
    "id": "c389ca63"
   },
   "source": [
    "**Вывод:** Минимальная задолженность по кретитам относяткся к клиентам которые находятся в разводе или имеют статус вдовец / вдова (7,06% и 6.62%) соответсвенно. Наибольшая просроченность по кредитным обезательсвам является у клиентов, имеющих статус гражданский брак и Не женат/не замужем, (9,31% и 9,76%) соответсвенно. Разница между минимальным и максимальным значением составляет 3.14%. Так же, категории, имеющие наимеший % задолженности взяли меньше всего кредитов."
   ]
  },
  {
   "cell_type": "markdown",
   "id": "9529de68",
   "metadata": {
    "deletable": false,
    "editable": false,
    "id": "9529de68"
   },
   "source": [
    "#### 3.3 Есть ли зависимость между уровнем дохода и возвратом кредита в срок?"
   ]
  },
  {
   "cell_type": "code",
   "execution_count": 25,
   "id": "8787f44a",
   "metadata": {
    "deletable": false,
    "id": "8787f44a"
   },
   "outputs": [
    {
     "name": "stdout",
     "output_type": "stream",
     "text": [
      "                       нет долга  есть долг % должников\n",
      "total_income_category                                  \n",
      "E                             20          2       9.09%\n",
      "D                            328         21       6.02%\n",
      "C                          14568       1353       8.50%\n",
      "B                           4660        354       7.06%\n",
      "A                             23          2       8.00%\n",
      "\n",
      "E - доход до 30000 руб\n",
      "D - доход от 30000 до 50000 руб\n",
      "C - доход от 50000 до 200000 руб\n",
      "B - доход от 200000 до 1000000 руб\n",
      "A - доход от 1000000 руб\n",
      "\n",
      "Разница между минимальным и максимальным значением: 3.07 %\n"
     ]
    }
   ],
   "source": [
    "\n",
    "\n",
    "tablica_three = data.pivot_table(index='total_income_category', columns='debt', values='gender', aggfunc='count')\n",
    "tablica_three.columns = ['нет долга', 'есть долг']\n",
    "\n",
    "tablica_three['% должников'] = tablica_three['есть долг'] / (tablica_three['есть долг'] + tablica_three['нет долга'])\n",
    "\n",
    "x_dox = tablica_three['% должников'].max()\n",
    "y_dox = tablica_three['% должников'].min()\n",
    "d_dox = (x_dox - y_dox)*100\n",
    "\n",
    "tablica_three['% должников'] = tablica_three['% должников'].map('{:.2%}'.format)\n",
    "\n",
    "print(tablica_three.sort_values(by='total_income_category', ascending=False))\n",
    "print()\n",
    "print('E - доход до 30000 руб')\n",
    "print('D - доход от 30000 до 50000 руб')\n",
    "print('C - доход от 50000 до 200000 руб')\n",
    "print('B - доход от 200000 до 1000000 руб')\n",
    "print('A - доход от 1000000 руб')\n",
    "print()\n",
    "print('Разница между минимальным и максимальным значением:', d_dox.round(2), '%')\n",
    "\n",
    "\n"
   ]
  },
  {
   "cell_type": "markdown",
   "id": "6dd14b57",
   "metadata": {
    "deletable": false,
    "id": "6dd14b57"
   },
   "source": [
    "**Вывод:** Уровень дохода так же влияет на кредитоспособность клиентов. Наибольшее число сотрудников, имеющих долг по кредитным платежам являются с наименьшим дохожом до 30000 руб, что составляет 9,09%, но дання категория является малочисленная. Самая Распространенная категория является категория С, имеющая доход от 50000 до 200000 руб, где % должноков составляет 8,50%. Вторая по расспространенности категория является категория В, где % клиентов имеющих долг равен 7,06%. Диапазон составляет от 6 до 9 процентов."
   ]
  },
  {
   "cell_type": "markdown",
   "id": "1dcc9b12",
   "metadata": {
    "deletable": false,
    "editable": false,
    "id": "1dcc9b12"
   },
   "source": [
    "#### 3.4 Как разные цели кредита влияют на его возврат в срок?"
   ]
  },
  {
   "cell_type": "code",
   "execution_count": 26,
   "id": "c602bc8b",
   "metadata": {
    "deletable": false,
    "id": "c602bc8b"
   },
   "outputs": [
    {
     "name": "stdout",
     "output_type": "stream",
     "text": [
      "                          нет долга  есть долг % должников\n",
      "purpose_category                                          \n",
      "операции с недвижимостью       9971        780       7.26%\n",
      "проведение свадьбы             2130        183       7.91%\n",
      "получение образования          3619        369       9.25%\n",
      "операции с автомобилем         3879        400       9.35%\n",
      "\n",
      "Разница между минимальным и максимальным значением: 2.09 %\n"
     ]
    }
   ],
   "source": [
    "\n",
    "tablica_four = data.pivot_table(index='purpose_category', columns='debt', values='gender', aggfunc='count')\n",
    "\n",
    "tablica_four.columns = ['нет долга', 'есть долг']\n",
    "\n",
    "tablica_four['% должников'] = tablica_four['есть долг'] / (tablica_four['есть долг'] + tablica_four['нет долга'])\n",
    "\n",
    "x = tablica_four['% должников'].max()\n",
    "y = tablica_four['% должников'].min()\n",
    "c_cc = (x - y)*100\n",
    "\n",
    "tablica_four['% должников'] = tablica_four['% должников'].map('{:.2%}'.format)\n",
    "\n",
    "print(tablica_four.sort_values(by='% должников', ascending=True))\n",
    "print()\n",
    "print('Разница между минимальным и максимальным значением:', c_cc.round(2), '%')\n",
    "\n",
    "\n"
   ]
  },
  {
   "cell_type": "markdown",
   "id": "cf05ed63",
   "metadata": {
    "deletable": false,
    "id": "cf05ed63"
   },
   "source": [
    "**Вывод:** Наименьшее число задолженности по кредитам, являюся кредиты, выданные на покупку недвижимости, что составляет 7.26%, Наибольший процент задолденности по кредитам наблюдается у придитов, взятых на покупку автомобиля (9,35%) и кредиты на получение образования (9,25%). "
   ]
  },
  {
   "cell_type": "markdown",
   "id": "46c1f10b",
   "metadata": {
    "deletable": false,
    "editable": false,
    "id": "46c1f10b"
   },
   "source": [
    "#### 3.5 Приведите возможные причины появления пропусков в исходных данных."
   ]
  },
  {
   "cell_type": "markdown",
   "id": "3697d2a9",
   "metadata": {
    "deletable": false,
    "id": "3697d2a9"
   },
   "source": [
    "Ответ: Причинами могут быть: \n",
    " - неверный ввод данных; \n",
    " - повреждение файла данных при сохранении; \n",
    " - технические проблемы."
   ]
  },
  {
   "cell_type": "markdown",
   "id": "3137d257",
   "metadata": {
    "deletable": false,
    "editable": false,
    "id": "3137d257"
   },
   "source": [
    "#### 3.6 Объясните, почему заполнить пропуски медианным значением — лучшее решение для количественных переменных."
   ]
  },
  {
   "cell_type": "markdown",
   "id": "cf40012a",
   "metadata": {
    "deletable": false,
    "id": "cf40012a"
   },
   "source": [
    "Ответ: Медиана позволяет исключить завышенные показатели, так как среднее арефметическое может быть сильно изменено из за 1-го завышенниго или заниженого показателя. Таким образом медиана устойчива к выбросам и аномальным значениям."
   ]
  },
  {
   "cell_type": "markdown",
   "id": "57bc304e",
   "metadata": {
    "deletable": false,
    "editable": false,
    "id": "57bc304e"
   },
   "source": [
    "### Шаг 4: общий вывод."
   ]
  },
  {
   "cell_type": "markdown",
   "id": "1ab75d1c",
   "metadata": {
    "deletable": false,
    "id": "1ab75d1c"
   },
   "source": [
    "В начале наробы была просморенна общая информация, в которой были обнаружены пропущенные данные с толбцах.\n",
    "В хоте работы были устранены пропуски, нулевые значения в столбцах total_income и days_employed медианным значением, в столбце children численности дитей были устранены аномальных значения, такие как -1 и 20, так же были удалены дубликаты.\n",
    "Для более удобного анализа были добвлены столбцы с категорий дохода (total_income_category) и столбец с целевой категорией (purpose_category)\n",
    "\n",
    "Лучшим заемщиком будет клиент, не имеюзих детей, состоящий в браке, а так же находящийся разводе или имебщий статус в вдовец / вдова, имеющий уровень дохода доход от 200000 до 1000000 и берущий деньги на покупку недвижимости.\n",
    "\n",
    "Разброс просроченный выплат в каждой категории примерно одинаковый. В среднем, это диапазоны от 7 до 9 процентов.\n",
    "\n",
    "Влияние наличия детей на вероятность просрочки платежа:\n",
    "\n",
    "Таблица 1        нет долга  есть долг  % должников\n",
    "нет детей          13028       1063      7.54%\n",
    "3 и более          349         31        8.16%\n",
    "1 ребенок          4364        444       9.23%\n",
    "2 детей            1858        194       9.45%\n",
    "\n",
    "Разница между минимальным и максимальным значением: 1.91 %\n",
    "\n",
    "\n",
    "Влияние семейного положения на вероятность просрочки платежа:\n",
    "\n",
    "Таблица 2              нет долга  есть долг  % должников\n",
    "вдовец / вдова            888        63        6.62%\n",
    "в разводе                 1105       84        7.06%\n",
    "женат / замужем           11334      927       7.56%\n",
    "гражданский брак          3749       385       9.31%\n",
    "Не женат / не замужем     2523       273       9.76%\n",
    "\n",
    "Разница между минимальным и максимальным значением: 3.14 %\n",
    "\n",
    "таблица 3     нет долга  есть долг  % должников\n",
    "E                20          2        9.09%\n",
    "D                328         21       6.02%\n",
    "C                14568       1353     8.50%\n",
    "B                4660        354      7.06%\n",
    "A                23          2        8.00%\n",
    "\n",
    "E - доход до 30000 руб\n",
    "D - доход от 30000 до 50000 руб\n",
    "C - доход от 50000 до 200000 руб\n",
    "B - доход от 200000 до 1000000 руб\n",
    "A - доход от 1000000 руб\n",
    "\n",
    "Разница между минимальным и максимальным значением: 3.07 %\n",
    "\n",
    "Таблица 4                    нет долга  есть долг  % должников\n",
    "операции с недвижимостью       9971        780       7.26%\n",
    "проведение свадьбы             2130        183       7.91%\n",
    "получение образования          3619        369       9.25%\n",
    "операции с автомобилем         3879        400       9.35%\n",
    "\n",
    "Разница между минимальным и максимальным значением: 2.09 %\n",
    " \n",
    "Для более качественного сбора и управления данными полезно иметь хорошо настроенную информационную систему управления данными.\n",
    " "
   ]
  },
  {
   "cell_type": "code",
   "execution_count": null,
   "id": "98255361",
   "metadata": {},
   "outputs": [],
   "source": []
  }
 ],
 "metadata": {
  "ExecuteTimeLog": [
   {
    "duration": 420,
    "start_time": "2023-09-09T12:41:20.503Z"
   },
   {
    "duration": 20,
    "start_time": "2023-09-09T12:41:20.925Z"
   },
   {
    "duration": 15,
    "start_time": "2023-09-09T12:41:20.947Z"
   },
   {
    "duration": 9,
    "start_time": "2023-09-09T12:41:20.964Z"
   },
   {
    "duration": 31,
    "start_time": "2023-09-09T12:41:20.974Z"
   },
   {
    "duration": 3,
    "start_time": "2023-09-09T12:41:21.007Z"
   },
   {
    "duration": 8,
    "start_time": "2023-09-09T12:41:21.011Z"
   },
   {
    "duration": 13,
    "start_time": "2023-09-09T12:41:21.020Z"
   },
   {
    "duration": 7,
    "start_time": "2023-09-09T12:41:21.050Z"
   },
   {
    "duration": 4,
    "start_time": "2023-09-09T12:41:21.059Z"
   },
   {
    "duration": 32,
    "start_time": "2023-09-09T12:41:21.064Z"
   },
   {
    "duration": 9,
    "start_time": "2023-09-09T12:41:21.098Z"
   },
   {
    "duration": 3,
    "start_time": "2023-09-09T12:41:21.108Z"
   },
   {
    "duration": 38,
    "start_time": "2023-09-09T12:41:21.112Z"
   },
   {
    "duration": 18,
    "start_time": "2023-09-09T12:41:21.151Z"
   },
   {
    "duration": 16,
    "start_time": "2023-09-09T12:41:21.170Z"
   },
   {
    "duration": 4,
    "start_time": "2023-09-09T12:41:21.187Z"
   },
   {
    "duration": 17,
    "start_time": "2023-09-09T12:41:21.192Z"
   },
   {
    "duration": 5,
    "start_time": "2023-09-09T12:41:21.211Z"
   },
   {
    "duration": 7,
    "start_time": "2023-09-09T12:41:21.217Z"
   },
   {
    "duration": 30,
    "start_time": "2023-09-09T12:41:21.225Z"
   },
   {
    "duration": 7,
    "start_time": "2023-09-09T12:41:21.257Z"
   },
   {
    "duration": 4,
    "start_time": "2023-09-09T12:41:21.266Z"
   },
   {
    "duration": 6,
    "start_time": "2023-09-09T12:41:21.271Z"
   },
   {
    "duration": 6,
    "start_time": "2023-09-09T12:41:21.278Z"
   },
   {
    "duration": 21,
    "start_time": "2023-09-09T15:23:05.537Z"
   },
   {
    "duration": 7,
    "start_time": "2023-09-10T11:28:00.910Z"
   },
   {
    "duration": 56,
    "start_time": "2023-09-10T11:32:43.336Z"
   },
   {
    "duration": 8,
    "start_time": "2023-09-10T11:34:38.929Z"
   },
   {
    "duration": 5,
    "start_time": "2023-09-10T11:35:45.932Z"
   },
   {
    "duration": 76,
    "start_time": "2023-09-10T11:36:27.396Z"
   },
   {
    "duration": 17,
    "start_time": "2023-09-10T11:36:33.556Z"
   },
   {
    "duration": 12,
    "start_time": "2023-09-10T11:38:42.354Z"
   },
   {
    "duration": 4,
    "start_time": "2023-09-10T11:47:05.446Z"
   },
   {
    "duration": 17,
    "start_time": "2023-09-10T11:56:17.593Z"
   },
   {
    "duration": 6,
    "start_time": "2023-09-10T12:00:09.379Z"
   },
   {
    "duration": 8,
    "start_time": "2023-09-10T12:00:36.165Z"
   },
   {
    "duration": 6,
    "start_time": "2023-09-10T12:00:43.845Z"
   },
   {
    "duration": 8,
    "start_time": "2023-09-10T12:01:03.757Z"
   },
   {
    "duration": 10,
    "start_time": "2023-09-10T12:01:18.005Z"
   },
   {
    "duration": 10,
    "start_time": "2023-09-10T12:01:33.605Z"
   },
   {
    "duration": 79,
    "start_time": "2023-09-10T12:01:51.584Z"
   },
   {
    "duration": 5,
    "start_time": "2023-09-10T12:02:09.359Z"
   },
   {
    "duration": 9,
    "start_time": "2023-09-10T12:02:38.861Z"
   },
   {
    "duration": 5,
    "start_time": "2023-09-10T12:03:03.802Z"
   },
   {
    "duration": 18,
    "start_time": "2023-09-10T12:03:15.446Z"
   },
   {
    "duration": 4,
    "start_time": "2023-09-10T12:07:15.124Z"
   },
   {
    "duration": 6,
    "start_time": "2023-09-10T12:07:38.062Z"
   },
   {
    "duration": 6,
    "start_time": "2023-09-10T12:07:53.394Z"
   },
   {
    "duration": 11,
    "start_time": "2023-09-10T12:08:27.218Z"
   },
   {
    "duration": 65,
    "start_time": "2023-09-10T12:08:55.167Z"
   },
   {
    "duration": 17,
    "start_time": "2023-09-10T12:09:04.594Z"
   },
   {
    "duration": 15,
    "start_time": "2023-09-10T12:09:27.883Z"
   },
   {
    "duration": 15,
    "start_time": "2023-09-10T12:09:56.811Z"
   },
   {
    "duration": 4,
    "start_time": "2023-09-10T12:12:17.662Z"
   },
   {
    "duration": 4,
    "start_time": "2023-09-10T12:12:23.167Z"
   },
   {
    "duration": 76,
    "start_time": "2023-09-10T12:12:33.725Z"
   },
   {
    "duration": 83,
    "start_time": "2023-09-10T12:12:44.017Z"
   },
   {
    "duration": 81,
    "start_time": "2023-09-10T12:13:12.685Z"
   },
   {
    "duration": 489,
    "start_time": "2023-09-10T12:13:20.238Z"
   },
   {
    "duration": 20,
    "start_time": "2023-09-10T12:13:20.729Z"
   },
   {
    "duration": 19,
    "start_time": "2023-09-10T12:13:20.751Z"
   },
   {
    "duration": 10,
    "start_time": "2023-09-10T12:13:20.772Z"
   },
   {
    "duration": 50,
    "start_time": "2023-09-10T12:13:20.783Z"
   },
   {
    "duration": 3,
    "start_time": "2023-09-10T12:13:20.834Z"
   },
   {
    "duration": 32,
    "start_time": "2023-09-10T12:13:20.838Z"
   },
   {
    "duration": 10,
    "start_time": "2023-09-10T12:13:20.871Z"
   },
   {
    "duration": 27,
    "start_time": "2023-09-10T12:13:20.882Z"
   },
   {
    "duration": 13,
    "start_time": "2023-09-10T12:13:20.912Z"
   },
   {
    "duration": 53,
    "start_time": "2023-09-10T12:13:20.927Z"
   },
   {
    "duration": 11,
    "start_time": "2023-09-10T12:13:20.981Z"
   },
   {
    "duration": 37,
    "start_time": "2023-09-10T12:13:20.994Z"
   },
   {
    "duration": 32,
    "start_time": "2023-09-10T12:13:21.032Z"
   },
   {
    "duration": 41,
    "start_time": "2023-09-10T12:13:21.065Z"
   },
   {
    "duration": 16,
    "start_time": "2023-09-10T12:13:21.108Z"
   },
   {
    "duration": 4,
    "start_time": "2023-09-10T12:13:21.125Z"
   },
   {
    "duration": 18,
    "start_time": "2023-09-10T12:13:21.131Z"
   },
   {
    "duration": 14,
    "start_time": "2023-09-10T12:13:21.151Z"
   },
   {
    "duration": 10,
    "start_time": "2023-09-10T12:13:21.167Z"
   },
   {
    "duration": 18,
    "start_time": "2023-09-10T12:13:21.178Z"
   },
   {
    "duration": 77,
    "start_time": "2023-09-10T12:13:21.197Z"
   },
   {
    "duration": 0,
    "start_time": "2023-09-10T12:13:21.275Z"
   },
   {
    "duration": 0,
    "start_time": "2023-09-10T12:13:21.277Z"
   },
   {
    "duration": 0,
    "start_time": "2023-09-10T12:13:21.278Z"
   },
   {
    "duration": 12,
    "start_time": "2023-09-10T12:13:41.655Z"
   },
   {
    "duration": 6,
    "start_time": "2023-09-10T12:14:03.522Z"
   },
   {
    "duration": 5,
    "start_time": "2023-09-10T12:14:38.585Z"
   },
   {
    "duration": 7,
    "start_time": "2023-09-10T12:15:07.195Z"
   },
   {
    "duration": 6,
    "start_time": "2023-09-10T12:15:58.496Z"
   },
   {
    "duration": 7,
    "start_time": "2023-09-10T12:16:03.524Z"
   },
   {
    "duration": 6,
    "start_time": "2023-09-10T12:16:07.885Z"
   },
   {
    "duration": 6,
    "start_time": "2023-09-10T12:16:13.248Z"
   },
   {
    "duration": 8,
    "start_time": "2023-09-10T12:17:01.557Z"
   },
   {
    "duration": 8,
    "start_time": "2023-09-10T12:17:31.590Z"
   },
   {
    "duration": 9,
    "start_time": "2023-09-10T12:17:40.067Z"
   },
   {
    "duration": 8,
    "start_time": "2023-09-10T12:20:13.175Z"
   },
   {
    "duration": 10,
    "start_time": "2023-09-10T12:25:09.659Z"
   },
   {
    "duration": 12,
    "start_time": "2023-09-10T12:28:13.398Z"
   },
   {
    "duration": 12,
    "start_time": "2023-09-10T12:28:49.033Z"
   },
   {
    "duration": 10,
    "start_time": "2023-09-10T12:29:24.253Z"
   },
   {
    "duration": 10,
    "start_time": "2023-09-10T12:29:35.485Z"
   },
   {
    "duration": 75,
    "start_time": "2023-09-10T12:33:32.698Z"
   },
   {
    "duration": 9,
    "start_time": "2023-09-10T12:33:45.523Z"
   },
   {
    "duration": 10,
    "start_time": "2023-09-10T12:34:09.541Z"
   },
   {
    "duration": 9,
    "start_time": "2023-09-10T12:34:14.722Z"
   },
   {
    "duration": 10,
    "start_time": "2023-09-10T12:34:30.561Z"
   },
   {
    "duration": 10,
    "start_time": "2023-09-10T12:34:59.640Z"
   },
   {
    "duration": 9,
    "start_time": "2023-09-10T12:35:45.078Z"
   },
   {
    "duration": 12,
    "start_time": "2023-09-10T12:36:18.005Z"
   },
   {
    "duration": 20,
    "start_time": "2023-09-10T12:37:06.665Z"
   },
   {
    "duration": 26,
    "start_time": "2023-09-10T12:37:31.412Z"
   },
   {
    "duration": 13,
    "start_time": "2023-09-10T12:38:26.689Z"
   },
   {
    "duration": 15,
    "start_time": "2023-09-10T12:50:33.833Z"
   },
   {
    "duration": 14,
    "start_time": "2023-09-10T12:51:29.048Z"
   },
   {
    "duration": 525,
    "start_time": "2023-09-10T12:51:35.830Z"
   },
   {
    "duration": 21,
    "start_time": "2023-09-10T12:51:36.357Z"
   },
   {
    "duration": 16,
    "start_time": "2023-09-10T12:51:36.380Z"
   },
   {
    "duration": 9,
    "start_time": "2023-09-10T12:51:36.397Z"
   },
   {
    "duration": 54,
    "start_time": "2023-09-10T12:51:36.408Z"
   },
   {
    "duration": 4,
    "start_time": "2023-09-10T12:51:36.464Z"
   },
   {
    "duration": 23,
    "start_time": "2023-09-10T12:51:36.470Z"
   },
   {
    "duration": 4,
    "start_time": "2023-09-10T12:51:36.494Z"
   },
   {
    "duration": 12,
    "start_time": "2023-09-10T12:51:36.500Z"
   },
   {
    "duration": 7,
    "start_time": "2023-09-10T12:51:36.513Z"
   },
   {
    "duration": 51,
    "start_time": "2023-09-10T12:51:36.521Z"
   },
   {
    "duration": 12,
    "start_time": "2023-09-10T12:51:36.574Z"
   },
   {
    "duration": 17,
    "start_time": "2023-09-10T12:51:36.588Z"
   },
   {
    "duration": 15,
    "start_time": "2023-09-10T12:51:36.608Z"
   },
   {
    "duration": 32,
    "start_time": "2023-09-10T12:51:36.625Z"
   },
   {
    "duration": 16,
    "start_time": "2023-09-10T12:51:36.659Z"
   },
   {
    "duration": 3,
    "start_time": "2023-09-10T12:51:36.677Z"
   },
   {
    "duration": 46,
    "start_time": "2023-09-10T12:51:36.682Z"
   },
   {
    "duration": 21,
    "start_time": "2023-09-10T12:51:36.730Z"
   },
   {
    "duration": 22,
    "start_time": "2023-09-10T12:51:36.753Z"
   },
   {
    "duration": 20,
    "start_time": "2023-09-10T12:51:36.776Z"
   },
   {
    "duration": 17,
    "start_time": "2023-09-10T12:51:36.798Z"
   },
   {
    "duration": 21,
    "start_time": "2023-09-10T12:51:36.817Z"
   },
   {
    "duration": 24,
    "start_time": "2023-09-10T12:51:36.840Z"
   },
   {
    "duration": 17,
    "start_time": "2023-09-10T12:51:36.865Z"
   },
   {
    "duration": 7,
    "start_time": "2023-09-10T13:08:26.600Z"
   },
   {
    "duration": 8,
    "start_time": "2023-09-10T13:35:06.718Z"
   },
   {
    "duration": 8,
    "start_time": "2023-09-10T13:35:25.933Z"
   },
   {
    "duration": 8,
    "start_time": "2023-09-10T13:35:34.830Z"
   },
   {
    "duration": 7,
    "start_time": "2023-09-10T13:36:03.238Z"
   },
   {
    "duration": 7,
    "start_time": "2023-09-10T13:36:11.742Z"
   },
   {
    "duration": 8,
    "start_time": "2023-09-10T13:36:23.814Z"
   },
   {
    "duration": 7,
    "start_time": "2023-09-10T13:36:32.096Z"
   },
   {
    "duration": 450,
    "start_time": "2023-09-10T13:36:44.214Z"
   },
   {
    "duration": 20,
    "start_time": "2023-09-10T13:36:44.666Z"
   },
   {
    "duration": 19,
    "start_time": "2023-09-10T13:36:44.687Z"
   },
   {
    "duration": 16,
    "start_time": "2023-09-10T13:36:44.707Z"
   },
   {
    "duration": 46,
    "start_time": "2023-09-10T13:36:44.724Z"
   },
   {
    "duration": 2,
    "start_time": "2023-09-10T13:36:44.772Z"
   },
   {
    "duration": 26,
    "start_time": "2023-09-10T13:36:44.776Z"
   },
   {
    "duration": 13,
    "start_time": "2023-09-10T13:36:44.803Z"
   },
   {
    "duration": 17,
    "start_time": "2023-09-10T13:36:44.817Z"
   },
   {
    "duration": 14,
    "start_time": "2023-09-10T13:36:44.836Z"
   },
   {
    "duration": 44,
    "start_time": "2023-09-10T13:36:44.851Z"
   },
   {
    "duration": 9,
    "start_time": "2023-09-10T13:36:44.896Z"
   },
   {
    "duration": 9,
    "start_time": "2023-09-10T13:36:44.906Z"
   },
   {
    "duration": 23,
    "start_time": "2023-09-10T13:36:44.916Z"
   },
   {
    "duration": 23,
    "start_time": "2023-09-10T13:36:44.940Z"
   },
   {
    "duration": 15,
    "start_time": "2023-09-10T13:36:44.964Z"
   },
   {
    "duration": 14,
    "start_time": "2023-09-10T13:36:44.980Z"
   },
   {
    "duration": 56,
    "start_time": "2023-09-10T13:36:44.995Z"
   },
   {
    "duration": 29,
    "start_time": "2023-09-10T13:36:45.052Z"
   },
   {
    "duration": 39,
    "start_time": "2023-09-10T13:36:45.082Z"
   },
   {
    "duration": 47,
    "start_time": "2023-09-10T13:36:45.122Z"
   },
   {
    "duration": 74,
    "start_time": "2023-09-10T13:36:45.171Z"
   },
   {
    "duration": 0,
    "start_time": "2023-09-10T13:36:45.246Z"
   },
   {
    "duration": 0,
    "start_time": "2023-09-10T13:36:45.247Z"
   },
   {
    "duration": 0,
    "start_time": "2023-09-10T13:36:45.249Z"
   },
   {
    "duration": 8,
    "start_time": "2023-09-10T13:37:33.760Z"
   },
   {
    "duration": 13,
    "start_time": "2023-09-10T13:38:01.120Z"
   },
   {
    "duration": 11,
    "start_time": "2023-09-10T13:38:07.537Z"
   },
   {
    "duration": 9,
    "start_time": "2023-09-10T13:39:18.178Z"
   },
   {
    "duration": 8,
    "start_time": "2023-09-10T13:41:22.747Z"
   },
   {
    "duration": 10,
    "start_time": "2023-09-10T13:44:28.142Z"
   },
   {
    "duration": 12,
    "start_time": "2023-09-10T13:51:17.626Z"
   },
   {
    "duration": 12,
    "start_time": "2023-09-10T13:53:51.124Z"
   },
   {
    "duration": 13,
    "start_time": "2023-09-10T13:54:01.460Z"
   },
   {
    "duration": 21,
    "start_time": "2023-09-10T13:57:27.072Z"
   },
   {
    "duration": 20,
    "start_time": "2023-09-10T14:01:30.961Z"
   },
   {
    "duration": 22,
    "start_time": "2023-09-10T14:02:06.324Z"
   },
   {
    "duration": 18,
    "start_time": "2023-09-10T14:05:23.614Z"
   },
   {
    "duration": 18,
    "start_time": "2023-09-10T14:20:42.067Z"
   },
   {
    "duration": 21,
    "start_time": "2023-09-10T14:21:11.180Z"
   },
   {
    "duration": 19,
    "start_time": "2023-09-10T14:21:18.972Z"
   },
   {
    "duration": 21,
    "start_time": "2023-09-10T14:21:35.083Z"
   },
   {
    "duration": 19,
    "start_time": "2023-09-10T14:21:45.060Z"
   },
   {
    "duration": 19,
    "start_time": "2023-09-10T14:23:24.262Z"
   },
   {
    "duration": 55,
    "start_time": "2023-09-10T14:24:06.541Z"
   },
   {
    "duration": 23,
    "start_time": "2023-09-10T14:24:16.293Z"
   },
   {
    "duration": 22,
    "start_time": "2023-09-10T14:24:37.053Z"
   },
   {
    "duration": 24,
    "start_time": "2023-09-10T14:24:44.950Z"
   },
   {
    "duration": 92,
    "start_time": "2023-09-10T14:28:25.826Z"
   },
   {
    "duration": 74,
    "start_time": "2023-09-10T14:28:33.548Z"
   },
   {
    "duration": 74,
    "start_time": "2023-09-10T14:28:46.317Z"
   },
   {
    "duration": 482,
    "start_time": "2023-09-10T14:28:53.938Z"
   },
   {
    "duration": 25,
    "start_time": "2023-09-10T14:28:54.422Z"
   },
   {
    "duration": 24,
    "start_time": "2023-09-10T14:28:54.448Z"
   },
   {
    "duration": 18,
    "start_time": "2023-09-10T14:28:54.475Z"
   },
   {
    "duration": 36,
    "start_time": "2023-09-10T14:28:54.495Z"
   },
   {
    "duration": 3,
    "start_time": "2023-09-10T14:28:54.532Z"
   },
   {
    "duration": 18,
    "start_time": "2023-09-10T14:28:54.536Z"
   },
   {
    "duration": 5,
    "start_time": "2023-09-10T14:28:54.556Z"
   },
   {
    "duration": 11,
    "start_time": "2023-09-10T14:28:54.562Z"
   },
   {
    "duration": 19,
    "start_time": "2023-09-10T14:28:54.575Z"
   },
   {
    "duration": 37,
    "start_time": "2023-09-10T14:28:54.595Z"
   },
   {
    "duration": 10,
    "start_time": "2023-09-10T14:28:54.633Z"
   },
   {
    "duration": 25,
    "start_time": "2023-09-10T14:28:54.649Z"
   },
   {
    "duration": 29,
    "start_time": "2023-09-10T14:28:54.676Z"
   },
   {
    "duration": 22,
    "start_time": "2023-09-10T14:28:54.706Z"
   },
   {
    "duration": 14,
    "start_time": "2023-09-10T14:28:54.730Z"
   },
   {
    "duration": 3,
    "start_time": "2023-09-10T14:28:54.745Z"
   },
   {
    "duration": 32,
    "start_time": "2023-09-10T14:28:54.750Z"
   },
   {
    "duration": 13,
    "start_time": "2023-09-10T14:28:54.783Z"
   },
   {
    "duration": 12,
    "start_time": "2023-09-10T14:28:54.797Z"
   },
   {
    "duration": 29,
    "start_time": "2023-09-10T14:28:54.810Z"
   },
   {
    "duration": 126,
    "start_time": "2023-09-10T14:28:54.840Z"
   },
   {
    "duration": 0,
    "start_time": "2023-09-10T14:28:54.968Z"
   },
   {
    "duration": 0,
    "start_time": "2023-09-10T14:28:54.969Z"
   },
   {
    "duration": 0,
    "start_time": "2023-09-10T14:28:54.970Z"
   },
   {
    "duration": 106,
    "start_time": "2023-09-10T14:29:18.425Z"
   },
   {
    "duration": 454,
    "start_time": "2023-09-10T14:30:19.461Z"
   },
   {
    "duration": 20,
    "start_time": "2023-09-10T14:30:19.917Z"
   },
   {
    "duration": 20,
    "start_time": "2023-09-10T14:30:19.938Z"
   },
   {
    "duration": 15,
    "start_time": "2023-09-10T14:30:19.960Z"
   },
   {
    "duration": 31,
    "start_time": "2023-09-10T14:30:19.976Z"
   },
   {
    "duration": 3,
    "start_time": "2023-09-10T14:30:20.009Z"
   },
   {
    "duration": 28,
    "start_time": "2023-09-10T14:30:20.013Z"
   },
   {
    "duration": 7,
    "start_time": "2023-09-10T14:30:20.043Z"
   },
   {
    "duration": 6,
    "start_time": "2023-09-10T14:30:20.051Z"
   },
   {
    "duration": 5,
    "start_time": "2023-09-10T14:30:20.059Z"
   },
   {
    "duration": 34,
    "start_time": "2023-09-10T14:30:20.066Z"
   },
   {
    "duration": 9,
    "start_time": "2023-09-10T14:30:20.101Z"
   },
   {
    "duration": 3,
    "start_time": "2023-09-10T14:30:20.111Z"
   },
   {
    "duration": 35,
    "start_time": "2023-09-10T14:30:20.115Z"
   },
   {
    "duration": 17,
    "start_time": "2023-09-10T14:30:20.152Z"
   },
   {
    "duration": 15,
    "start_time": "2023-09-10T14:30:20.170Z"
   },
   {
    "duration": 4,
    "start_time": "2023-09-10T14:30:20.186Z"
   },
   {
    "duration": 22,
    "start_time": "2023-09-10T14:30:20.191Z"
   },
   {
    "duration": 18,
    "start_time": "2023-09-10T14:30:20.214Z"
   },
   {
    "duration": 51,
    "start_time": "2023-09-10T14:30:20.233Z"
   },
   {
    "duration": 19,
    "start_time": "2023-09-10T14:30:20.285Z"
   },
   {
    "duration": 127,
    "start_time": "2023-09-10T14:30:20.305Z"
   },
   {
    "duration": 0,
    "start_time": "2023-09-10T14:30:20.434Z"
   },
   {
    "duration": 0,
    "start_time": "2023-09-10T14:30:20.436Z"
   },
   {
    "duration": 0,
    "start_time": "2023-09-10T14:30:20.437Z"
   },
   {
    "duration": 87,
    "start_time": "2023-09-10T14:30:47.279Z"
   },
   {
    "duration": 95,
    "start_time": "2023-09-10T14:31:23.598Z"
   },
   {
    "duration": 21,
    "start_time": "2023-09-10T14:32:25.200Z"
   },
   {
    "duration": 17,
    "start_time": "2023-09-10T14:33:42.479Z"
   },
   {
    "duration": 19,
    "start_time": "2023-09-10T14:34:16.185Z"
   },
   {
    "duration": 15,
    "start_time": "2023-09-10T14:42:52.292Z"
   },
   {
    "duration": 16,
    "start_time": "2023-09-10T14:43:16.697Z"
   },
   {
    "duration": 15,
    "start_time": "2023-09-10T14:44:07.385Z"
   },
   {
    "duration": 4,
    "start_time": "2023-09-10T14:46:16.196Z"
   },
   {
    "duration": 26,
    "start_time": "2023-09-10T14:48:59.237Z"
   },
   {
    "duration": 16,
    "start_time": "2023-09-10T14:51:42.439Z"
   },
   {
    "duration": 7,
    "start_time": "2023-09-10T14:58:21.244Z"
   },
   {
    "duration": 7,
    "start_time": "2023-09-10T14:58:33.765Z"
   },
   {
    "duration": 474,
    "start_time": "2023-09-10T14:59:04.153Z"
   },
   {
    "duration": 23,
    "start_time": "2023-09-10T14:59:04.629Z"
   },
   {
    "duration": 18,
    "start_time": "2023-09-10T14:59:04.654Z"
   },
   {
    "duration": 10,
    "start_time": "2023-09-10T14:59:04.674Z"
   },
   {
    "duration": 33,
    "start_time": "2023-09-10T14:59:04.685Z"
   },
   {
    "duration": 3,
    "start_time": "2023-09-10T14:59:04.719Z"
   },
   {
    "duration": 27,
    "start_time": "2023-09-10T14:59:04.723Z"
   },
   {
    "duration": 4,
    "start_time": "2023-09-10T14:59:04.751Z"
   },
   {
    "duration": 8,
    "start_time": "2023-09-10T14:59:04.756Z"
   },
   {
    "duration": 3,
    "start_time": "2023-09-10T14:59:04.766Z"
   },
   {
    "duration": 34,
    "start_time": "2023-09-10T14:59:04.770Z"
   },
   {
    "duration": 9,
    "start_time": "2023-09-10T14:59:04.806Z"
   },
   {
    "duration": 6,
    "start_time": "2023-09-10T14:59:04.817Z"
   },
   {
    "duration": 32,
    "start_time": "2023-09-10T14:59:04.824Z"
   },
   {
    "duration": 18,
    "start_time": "2023-09-10T14:59:04.858Z"
   },
   {
    "duration": 17,
    "start_time": "2023-09-10T14:59:04.877Z"
   },
   {
    "duration": 4,
    "start_time": "2023-09-10T14:59:04.896Z"
   },
   {
    "duration": 17,
    "start_time": "2023-09-10T14:59:04.901Z"
   },
   {
    "duration": 9,
    "start_time": "2023-09-10T14:59:04.920Z"
   },
   {
    "duration": 4,
    "start_time": "2023-09-10T14:59:04.949Z"
   },
   {
    "duration": 11,
    "start_time": "2023-09-10T14:59:04.954Z"
   },
   {
    "duration": 32,
    "start_time": "2023-09-10T14:59:04.967Z"
   },
   {
    "duration": 42,
    "start_time": "2023-09-10T14:59:05.001Z"
   },
   {
    "duration": 60,
    "start_time": "2023-09-10T14:59:05.045Z"
   },
   {
    "duration": 0,
    "start_time": "2023-09-10T14:59:05.106Z"
   },
   {
    "duration": 8,
    "start_time": "2023-09-10T15:00:14.355Z"
   },
   {
    "duration": 16,
    "start_time": "2023-09-10T15:01:38.921Z"
   },
   {
    "duration": 5,
    "start_time": "2023-09-10T15:05:04.595Z"
   },
   {
    "duration": 9,
    "start_time": "2023-09-10T15:10:59.488Z"
   },
   {
    "duration": 15,
    "start_time": "2023-09-10T15:11:29.232Z"
   },
   {
    "duration": 5,
    "start_time": "2023-09-10T15:17:44.679Z"
   },
   {
    "duration": 24,
    "start_time": "2023-09-10T15:19:23.364Z"
   },
   {
    "duration": 21,
    "start_time": "2023-09-10T15:19:35.210Z"
   },
   {
    "duration": 6,
    "start_time": "2023-09-10T15:20:16.232Z"
   },
   {
    "duration": 76,
    "start_time": "2023-09-10T15:25:31.067Z"
   },
   {
    "duration": 74,
    "start_time": "2023-09-10T15:26:34.039Z"
   },
   {
    "duration": 72,
    "start_time": "2023-09-10T15:26:47.029Z"
   },
   {
    "duration": 69,
    "start_time": "2023-09-10T15:26:59.535Z"
   },
   {
    "duration": 7,
    "start_time": "2023-09-10T15:27:25.192Z"
   },
   {
    "duration": 12,
    "start_time": "2023-09-10T15:35:01.807Z"
   },
   {
    "duration": 26,
    "start_time": "2023-09-10T15:43:40.143Z"
   },
   {
    "duration": 26,
    "start_time": "2023-09-10T15:44:05.455Z"
   },
   {
    "duration": 7,
    "start_time": "2023-09-10T15:44:57.678Z"
   },
   {
    "duration": 417,
    "start_time": "2023-09-10T15:45:13.604Z"
   },
   {
    "duration": 20,
    "start_time": "2023-09-10T15:45:14.023Z"
   },
   {
    "duration": 15,
    "start_time": "2023-09-10T15:45:14.045Z"
   },
   {
    "duration": 10,
    "start_time": "2023-09-10T15:45:14.062Z"
   },
   {
    "duration": 33,
    "start_time": "2023-09-10T15:45:14.073Z"
   },
   {
    "duration": 3,
    "start_time": "2023-09-10T15:45:14.108Z"
   },
   {
    "duration": 9,
    "start_time": "2023-09-10T15:45:14.113Z"
   },
   {
    "duration": 27,
    "start_time": "2023-09-10T15:45:14.123Z"
   },
   {
    "duration": 11,
    "start_time": "2023-09-10T15:45:14.152Z"
   },
   {
    "duration": 5,
    "start_time": "2023-09-10T15:45:14.166Z"
   },
   {
    "duration": 45,
    "start_time": "2023-09-10T15:45:14.172Z"
   },
   {
    "duration": 32,
    "start_time": "2023-09-10T15:45:14.218Z"
   },
   {
    "duration": 5,
    "start_time": "2023-09-10T15:45:14.251Z"
   },
   {
    "duration": 20,
    "start_time": "2023-09-10T15:45:14.258Z"
   },
   {
    "duration": 19,
    "start_time": "2023-09-10T15:45:14.279Z"
   },
   {
    "duration": 15,
    "start_time": "2023-09-10T15:45:14.299Z"
   },
   {
    "duration": 3,
    "start_time": "2023-09-10T15:45:14.315Z"
   },
   {
    "duration": 23,
    "start_time": "2023-09-10T15:45:14.319Z"
   },
   {
    "duration": 7,
    "start_time": "2023-09-10T15:45:14.343Z"
   },
   {
    "duration": 3,
    "start_time": "2023-09-10T15:45:14.351Z"
   },
   {
    "duration": 9,
    "start_time": "2023-09-10T15:45:14.356Z"
   },
   {
    "duration": 14,
    "start_time": "2023-09-10T15:45:14.366Z"
   },
   {
    "duration": 24,
    "start_time": "2023-09-10T15:45:14.381Z"
   },
   {
    "duration": 5,
    "start_time": "2023-09-10T15:45:14.406Z"
   },
   {
    "duration": 4,
    "start_time": "2023-09-10T15:45:14.413Z"
   },
   {
    "duration": 25,
    "start_time": "2023-09-10T15:45:26.653Z"
   },
   {
    "duration": 15,
    "start_time": "2023-09-10T15:50:20.048Z"
   },
   {
    "duration": 5,
    "start_time": "2023-09-10T15:51:01.049Z"
   },
   {
    "duration": 20,
    "start_time": "2023-09-10T15:52:38.515Z"
   },
   {
    "duration": 432,
    "start_time": "2023-09-10T15:54:16.193Z"
   },
   {
    "duration": 19,
    "start_time": "2023-09-10T15:54:16.627Z"
   },
   {
    "duration": 15,
    "start_time": "2023-09-10T15:54:16.647Z"
   },
   {
    "duration": 9,
    "start_time": "2023-09-10T15:54:16.664Z"
   },
   {
    "duration": 32,
    "start_time": "2023-09-10T15:54:16.674Z"
   },
   {
    "duration": 3,
    "start_time": "2023-09-10T15:54:16.708Z"
   },
   {
    "duration": 14,
    "start_time": "2023-09-10T15:54:16.712Z"
   },
   {
    "duration": 21,
    "start_time": "2023-09-10T15:54:16.728Z"
   },
   {
    "duration": 6,
    "start_time": "2023-09-10T15:54:16.751Z"
   },
   {
    "duration": 3,
    "start_time": "2023-09-10T15:54:16.759Z"
   },
   {
    "duration": 33,
    "start_time": "2023-09-10T15:54:16.764Z"
   },
   {
    "duration": 9,
    "start_time": "2023-09-10T15:54:16.798Z"
   },
   {
    "duration": 4,
    "start_time": "2023-09-10T15:54:16.808Z"
   },
   {
    "duration": 11,
    "start_time": "2023-09-10T15:54:16.814Z"
   },
   {
    "duration": 39,
    "start_time": "2023-09-10T15:54:16.826Z"
   },
   {
    "duration": 15,
    "start_time": "2023-09-10T15:54:16.866Z"
   },
   {
    "duration": 4,
    "start_time": "2023-09-10T15:54:16.882Z"
   },
   {
    "duration": 13,
    "start_time": "2023-09-10T15:54:16.887Z"
   },
   {
    "duration": 4,
    "start_time": "2023-09-10T15:54:16.902Z"
   },
   {
    "duration": 4,
    "start_time": "2023-09-10T15:54:16.907Z"
   },
   {
    "duration": 40,
    "start_time": "2023-09-10T15:54:16.912Z"
   },
   {
    "duration": 15,
    "start_time": "2023-09-10T15:54:16.953Z"
   },
   {
    "duration": 23,
    "start_time": "2023-09-10T15:54:16.970Z"
   },
   {
    "duration": 25,
    "start_time": "2023-09-10T15:54:16.994Z"
   },
   {
    "duration": 41,
    "start_time": "2023-09-10T15:54:17.020Z"
   },
   {
    "duration": 16,
    "start_time": "2023-09-10T15:55:49.990Z"
   },
   {
    "duration": 15,
    "start_time": "2023-09-10T15:56:06.061Z"
   },
   {
    "duration": 521,
    "start_time": "2023-09-10T16:00:34.138Z"
   },
   {
    "duration": 22,
    "start_time": "2023-09-10T16:00:34.661Z"
   },
   {
    "duration": 53,
    "start_time": "2023-09-10T16:00:34.684Z"
   },
   {
    "duration": 19,
    "start_time": "2023-09-10T16:00:34.738Z"
   },
   {
    "duration": 70,
    "start_time": "2023-09-10T16:00:34.761Z"
   },
   {
    "duration": 8,
    "start_time": "2023-09-10T16:00:34.833Z"
   },
   {
    "duration": 23,
    "start_time": "2023-09-10T16:00:34.842Z"
   },
   {
    "duration": 16,
    "start_time": "2023-09-10T16:00:34.867Z"
   },
   {
    "duration": 18,
    "start_time": "2023-09-10T16:00:34.885Z"
   },
   {
    "duration": 29,
    "start_time": "2023-09-10T16:00:34.905Z"
   },
   {
    "duration": 52,
    "start_time": "2023-09-10T16:00:34.936Z"
   },
   {
    "duration": 12,
    "start_time": "2023-09-10T16:00:34.989Z"
   },
   {
    "duration": 64,
    "start_time": "2023-09-10T16:00:35.002Z"
   },
   {
    "duration": 27,
    "start_time": "2023-09-10T16:00:35.069Z"
   },
   {
    "duration": 85,
    "start_time": "2023-09-10T16:00:35.098Z"
   },
   {
    "duration": 35,
    "start_time": "2023-09-10T16:00:35.185Z"
   },
   {
    "duration": 15,
    "start_time": "2023-09-10T16:00:35.221Z"
   },
   {
    "duration": 38,
    "start_time": "2023-09-10T16:00:35.237Z"
   },
   {
    "duration": 24,
    "start_time": "2023-09-10T16:00:35.276Z"
   },
   {
    "duration": 40,
    "start_time": "2023-09-10T16:00:35.302Z"
   },
   {
    "duration": 66,
    "start_time": "2023-09-10T16:00:35.343Z"
   },
   {
    "duration": 39,
    "start_time": "2023-09-10T16:00:35.411Z"
   },
   {
    "duration": 31,
    "start_time": "2023-09-10T16:00:35.451Z"
   },
   {
    "duration": 31,
    "start_time": "2023-09-10T16:00:35.484Z"
   },
   {
    "duration": 80,
    "start_time": "2023-09-10T16:00:35.516Z"
   },
   {
    "duration": 507,
    "start_time": "2023-09-10T16:01:09.627Z"
   },
   {
    "duration": 22,
    "start_time": "2023-09-10T16:01:10.136Z"
   },
   {
    "duration": 25,
    "start_time": "2023-09-10T16:01:10.160Z"
   },
   {
    "duration": 13,
    "start_time": "2023-09-10T16:01:10.187Z"
   },
   {
    "duration": 43,
    "start_time": "2023-09-10T16:01:10.202Z"
   },
   {
    "duration": 3,
    "start_time": "2023-09-10T16:01:10.247Z"
   },
   {
    "duration": 21,
    "start_time": "2023-09-10T16:01:10.251Z"
   },
   {
    "duration": 18,
    "start_time": "2023-09-10T16:01:10.273Z"
   },
   {
    "duration": 29,
    "start_time": "2023-09-10T16:01:10.293Z"
   },
   {
    "duration": 17,
    "start_time": "2023-09-10T16:01:10.324Z"
   },
   {
    "duration": 46,
    "start_time": "2023-09-10T16:01:10.343Z"
   },
   {
    "duration": 10,
    "start_time": "2023-09-10T16:01:10.390Z"
   },
   {
    "duration": 4,
    "start_time": "2023-09-10T16:01:10.402Z"
   },
   {
    "duration": 15,
    "start_time": "2023-09-10T16:01:10.408Z"
   },
   {
    "duration": 31,
    "start_time": "2023-09-10T16:01:10.424Z"
   },
   {
    "duration": 20,
    "start_time": "2023-09-10T16:01:10.456Z"
   },
   {
    "duration": 4,
    "start_time": "2023-09-10T16:01:10.477Z"
   },
   {
    "duration": 21,
    "start_time": "2023-09-10T16:01:10.482Z"
   },
   {
    "duration": 10,
    "start_time": "2023-09-10T16:01:10.504Z"
   },
   {
    "duration": 15,
    "start_time": "2023-09-10T16:01:10.516Z"
   },
   {
    "duration": 26,
    "start_time": "2023-09-10T16:01:10.532Z"
   },
   {
    "duration": 26,
    "start_time": "2023-09-10T16:01:10.559Z"
   },
   {
    "duration": 35,
    "start_time": "2023-09-10T16:01:10.587Z"
   },
   {
    "duration": 47,
    "start_time": "2023-09-10T16:01:10.623Z"
   },
   {
    "duration": 37,
    "start_time": "2023-09-10T16:01:10.671Z"
   },
   {
    "duration": 440,
    "start_time": "2023-09-10T16:02:11.909Z"
   },
   {
    "duration": 20,
    "start_time": "2023-09-10T16:02:12.351Z"
   },
   {
    "duration": 15,
    "start_time": "2023-09-10T16:02:12.373Z"
   },
   {
    "duration": 11,
    "start_time": "2023-09-10T16:02:12.389Z"
   },
   {
    "duration": 63,
    "start_time": "2023-09-10T16:02:12.401Z"
   },
   {
    "duration": 4,
    "start_time": "2023-09-10T16:02:12.465Z"
   },
   {
    "duration": 10,
    "start_time": "2023-09-10T16:02:12.470Z"
   },
   {
    "duration": 5,
    "start_time": "2023-09-10T16:02:12.481Z"
   },
   {
    "duration": 17,
    "start_time": "2023-09-10T16:02:12.487Z"
   },
   {
    "duration": 4,
    "start_time": "2023-09-10T16:02:12.505Z"
   },
   {
    "duration": 77,
    "start_time": "2023-09-10T16:02:12.511Z"
   },
   {
    "duration": 10,
    "start_time": "2023-09-10T16:02:12.589Z"
   },
   {
    "duration": 3,
    "start_time": "2023-09-10T16:02:12.601Z"
   },
   {
    "duration": 15,
    "start_time": "2023-09-10T16:02:12.607Z"
   },
   {
    "duration": 40,
    "start_time": "2023-09-10T16:02:12.623Z"
   },
   {
    "duration": 17,
    "start_time": "2023-09-10T16:02:12.664Z"
   },
   {
    "duration": 4,
    "start_time": "2023-09-10T16:02:12.683Z"
   },
   {
    "duration": 17,
    "start_time": "2023-09-10T16:02:12.689Z"
   },
   {
    "duration": 13,
    "start_time": "2023-09-10T16:02:12.708Z"
   },
   {
    "duration": 4,
    "start_time": "2023-09-10T16:02:12.723Z"
   },
   {
    "duration": 28,
    "start_time": "2023-09-10T16:02:12.728Z"
   },
   {
    "duration": 26,
    "start_time": "2023-09-10T16:02:12.758Z"
   },
   {
    "duration": 27,
    "start_time": "2023-09-10T16:02:12.786Z"
   },
   {
    "duration": 64,
    "start_time": "2023-09-10T16:02:12.814Z"
   },
   {
    "duration": 27,
    "start_time": "2023-09-10T16:02:12.880Z"
   },
   {
    "duration": 476,
    "start_time": "2023-09-11T15:35:20.453Z"
   },
   {
    "duration": 22,
    "start_time": "2023-09-11T15:35:20.931Z"
   },
   {
    "duration": 14,
    "start_time": "2023-09-11T15:35:20.955Z"
   },
   {
    "duration": 13,
    "start_time": "2023-09-11T15:35:20.971Z"
   },
   {
    "duration": 34,
    "start_time": "2023-09-11T15:35:20.986Z"
   },
   {
    "duration": 3,
    "start_time": "2023-09-11T15:35:21.021Z"
   },
   {
    "duration": 28,
    "start_time": "2023-09-11T15:35:21.026Z"
   },
   {
    "duration": 4,
    "start_time": "2023-09-11T15:35:21.055Z"
   },
   {
    "duration": 15,
    "start_time": "2023-09-11T15:35:21.060Z"
   },
   {
    "duration": 17,
    "start_time": "2023-09-11T15:35:21.077Z"
   },
   {
    "duration": 41,
    "start_time": "2023-09-11T15:35:21.096Z"
   },
   {
    "duration": 11,
    "start_time": "2023-09-11T15:35:21.139Z"
   },
   {
    "duration": 15,
    "start_time": "2023-09-11T15:35:21.151Z"
   },
   {
    "duration": 20,
    "start_time": "2023-09-11T15:35:21.168Z"
   },
   {
    "duration": 29,
    "start_time": "2023-09-11T15:35:21.189Z"
   },
   {
    "duration": 19,
    "start_time": "2023-09-11T15:35:21.219Z"
   },
   {
    "duration": 3,
    "start_time": "2023-09-11T15:35:21.239Z"
   },
   {
    "duration": 27,
    "start_time": "2023-09-11T15:35:21.249Z"
   },
   {
    "duration": 14,
    "start_time": "2023-09-11T15:35:21.278Z"
   },
   {
    "duration": 12,
    "start_time": "2023-09-11T15:35:21.294Z"
   },
   {
    "duration": 19,
    "start_time": "2023-09-11T15:35:21.308Z"
   },
   {
    "duration": 38,
    "start_time": "2023-09-11T15:35:21.329Z"
   },
   {
    "duration": 27,
    "start_time": "2023-09-11T15:35:21.369Z"
   },
   {
    "duration": 28,
    "start_time": "2023-09-11T15:35:21.398Z"
   },
   {
    "duration": 42,
    "start_time": "2023-09-11T15:35:21.427Z"
   },
   {
    "duration": 457,
    "start_time": "2023-09-11T15:37:07.472Z"
   },
   {
    "duration": 21,
    "start_time": "2023-09-11T15:37:07.930Z"
   },
   {
    "duration": 16,
    "start_time": "2023-09-11T15:37:07.953Z"
   },
   {
    "duration": 24,
    "start_time": "2023-09-11T15:37:07.970Z"
   },
   {
    "duration": 38,
    "start_time": "2023-09-11T15:37:07.996Z"
   },
   {
    "duration": 3,
    "start_time": "2023-09-11T15:37:08.035Z"
   },
   {
    "duration": 14,
    "start_time": "2023-09-11T15:37:08.040Z"
   },
   {
    "duration": 4,
    "start_time": "2023-09-11T15:37:08.056Z"
   },
   {
    "duration": 8,
    "start_time": "2023-09-11T15:37:08.061Z"
   },
   {
    "duration": 18,
    "start_time": "2023-09-11T15:37:08.071Z"
   },
   {
    "duration": 135,
    "start_time": "2023-09-11T15:37:08.090Z"
   },
   {
    "duration": 11,
    "start_time": "2023-09-11T15:37:08.227Z"
   },
   {
    "duration": 4,
    "start_time": "2023-09-11T15:37:08.240Z"
   },
   {
    "duration": 17,
    "start_time": "2023-09-11T15:37:08.247Z"
   },
   {
    "duration": 20,
    "start_time": "2023-09-11T15:37:08.266Z"
   },
   {
    "duration": 16,
    "start_time": "2023-09-11T15:37:08.288Z"
   },
   {
    "duration": 3,
    "start_time": "2023-09-11T15:37:08.306Z"
   },
   {
    "duration": 24,
    "start_time": "2023-09-11T15:37:08.311Z"
   },
   {
    "duration": 19,
    "start_time": "2023-09-11T15:37:08.336Z"
   },
   {
    "duration": 15,
    "start_time": "2023-09-11T15:37:08.357Z"
   },
   {
    "duration": 25,
    "start_time": "2023-09-11T15:37:08.373Z"
   },
   {
    "duration": 18,
    "start_time": "2023-09-11T15:37:08.400Z"
   },
   {
    "duration": 46,
    "start_time": "2023-09-11T15:37:08.420Z"
   },
   {
    "duration": 26,
    "start_time": "2023-09-11T15:37:08.468Z"
   },
   {
    "duration": 22,
    "start_time": "2023-09-11T15:37:08.495Z"
   },
   {
    "duration": 27,
    "start_time": "2023-09-11T15:38:45.697Z"
   },
   {
    "duration": 499,
    "start_time": "2023-09-11T15:38:56.434Z"
   },
   {
    "duration": 22,
    "start_time": "2023-09-11T15:38:56.935Z"
   },
   {
    "duration": 19,
    "start_time": "2023-09-11T15:38:56.963Z"
   },
   {
    "duration": 27,
    "start_time": "2023-09-11T15:38:56.984Z"
   },
   {
    "duration": 61,
    "start_time": "2023-09-11T15:38:57.013Z"
   },
   {
    "duration": 3,
    "start_time": "2023-09-11T15:38:57.075Z"
   },
   {
    "duration": 30,
    "start_time": "2023-09-11T15:38:57.080Z"
   },
   {
    "duration": 15,
    "start_time": "2023-09-11T15:38:57.111Z"
   },
   {
    "duration": 16,
    "start_time": "2023-09-11T15:38:57.130Z"
   },
   {
    "duration": 6,
    "start_time": "2023-09-11T15:38:57.148Z"
   },
   {
    "duration": 50,
    "start_time": "2023-09-11T15:38:57.156Z"
   },
   {
    "duration": 10,
    "start_time": "2023-09-11T15:38:57.208Z"
   },
   {
    "duration": 26,
    "start_time": "2023-09-11T15:38:57.219Z"
   },
   {
    "duration": 13,
    "start_time": "2023-09-11T15:38:57.246Z"
   },
   {
    "duration": 21,
    "start_time": "2023-09-11T15:38:57.261Z"
   },
   {
    "duration": 15,
    "start_time": "2023-09-11T15:38:57.284Z"
   },
   {
    "duration": 3,
    "start_time": "2023-09-11T15:38:57.301Z"
   },
   {
    "duration": 24,
    "start_time": "2023-09-11T15:38:57.306Z"
   },
   {
    "duration": 18,
    "start_time": "2023-09-11T15:38:57.332Z"
   },
   {
    "duration": 4,
    "start_time": "2023-09-11T15:38:57.352Z"
   },
   {
    "duration": 26,
    "start_time": "2023-09-11T15:38:57.357Z"
   },
   {
    "duration": 19,
    "start_time": "2023-09-11T15:38:57.384Z"
   },
   {
    "duration": 25,
    "start_time": "2023-09-11T15:38:57.405Z"
   },
   {
    "duration": 41,
    "start_time": "2023-09-11T15:38:57.431Z"
   },
   {
    "duration": 30,
    "start_time": "2023-09-11T15:38:57.474Z"
   },
   {
    "duration": 19,
    "start_time": "2023-09-11T15:48:03.392Z"
   },
   {
    "duration": 19,
    "start_time": "2023-09-11T15:48:29.255Z"
   },
   {
    "duration": 19,
    "start_time": "2023-09-11T15:49:21.433Z"
   },
   {
    "duration": 31,
    "start_time": "2023-09-11T16:09:37.961Z"
   },
   {
    "duration": 19,
    "start_time": "2023-09-11T16:10:03.393Z"
   },
   {
    "duration": 52,
    "start_time": "2023-09-11T16:11:55.901Z"
   },
   {
    "duration": 29,
    "start_time": "2023-09-11T16:14:37.975Z"
   },
   {
    "duration": 462,
    "start_time": "2023-09-12T06:09:33.184Z"
   },
   {
    "duration": 20,
    "start_time": "2023-09-12T06:09:33.647Z"
   },
   {
    "duration": 17,
    "start_time": "2023-09-12T06:09:33.668Z"
   },
   {
    "duration": 9,
    "start_time": "2023-09-12T06:09:33.686Z"
   },
   {
    "duration": 47,
    "start_time": "2023-09-12T06:09:33.697Z"
   },
   {
    "duration": 2,
    "start_time": "2023-09-12T06:09:33.746Z"
   },
   {
    "duration": 9,
    "start_time": "2023-09-12T06:09:33.749Z"
   },
   {
    "duration": 9,
    "start_time": "2023-09-12T06:09:33.759Z"
   },
   {
    "duration": 7,
    "start_time": "2023-09-12T06:09:33.769Z"
   },
   {
    "duration": 19,
    "start_time": "2023-09-12T06:09:33.778Z"
   },
   {
    "duration": 125,
    "start_time": "2023-09-12T06:09:33.798Z"
   },
   {
    "duration": 9,
    "start_time": "2023-09-12T06:09:33.925Z"
   },
   {
    "duration": 4,
    "start_time": "2023-09-12T06:09:33.935Z"
   },
   {
    "duration": 13,
    "start_time": "2023-09-12T06:09:33.940Z"
   },
   {
    "duration": 20,
    "start_time": "2023-09-12T06:09:33.954Z"
   },
   {
    "duration": 14,
    "start_time": "2023-09-12T06:09:33.975Z"
   },
   {
    "duration": 5,
    "start_time": "2023-09-12T06:09:33.990Z"
   },
   {
    "duration": 20,
    "start_time": "2023-09-12T06:09:33.997Z"
   },
   {
    "duration": 5,
    "start_time": "2023-09-12T06:09:34.019Z"
   },
   {
    "duration": 11,
    "start_time": "2023-09-12T06:09:34.026Z"
   },
   {
    "duration": 15,
    "start_time": "2023-09-12T06:09:34.038Z"
   },
   {
    "duration": 19,
    "start_time": "2023-09-12T06:09:34.055Z"
   },
   {
    "duration": 91,
    "start_time": "2023-09-12T06:09:34.076Z"
   },
   {
    "duration": 33,
    "start_time": "2023-09-12T06:09:34.169Z"
   },
   {
    "duration": 45,
    "start_time": "2023-09-12T06:09:34.203Z"
   },
   {
    "duration": 57,
    "start_time": "2023-09-12T15:44:42.712Z"
   },
   {
    "duration": 1137,
    "start_time": "2023-09-12T15:44:53.723Z"
   },
   {
    "duration": 22,
    "start_time": "2023-09-12T15:44:54.862Z"
   },
   {
    "duration": 25,
    "start_time": "2023-09-12T15:44:54.886Z"
   },
   {
    "duration": 12,
    "start_time": "2023-09-12T15:44:54.913Z"
   },
   {
    "duration": 57,
    "start_time": "2023-09-12T15:44:54.927Z"
   },
   {
    "duration": 3,
    "start_time": "2023-09-12T15:44:54.986Z"
   },
   {
    "duration": 28,
    "start_time": "2023-09-12T15:44:54.991Z"
   },
   {
    "duration": 48,
    "start_time": "2023-09-12T15:44:55.021Z"
   },
   {
    "duration": 30,
    "start_time": "2023-09-12T15:44:55.071Z"
   },
   {
    "duration": 17,
    "start_time": "2023-09-12T15:44:55.106Z"
   },
   {
    "duration": 65,
    "start_time": "2023-09-12T15:44:55.125Z"
   },
   {
    "duration": 10,
    "start_time": "2023-09-12T15:44:55.191Z"
   },
   {
    "duration": 17,
    "start_time": "2023-09-12T15:44:55.203Z"
   },
   {
    "duration": 20,
    "start_time": "2023-09-12T15:44:55.222Z"
   },
   {
    "duration": 46,
    "start_time": "2023-09-12T15:44:55.243Z"
   },
   {
    "duration": 17,
    "start_time": "2023-09-12T15:44:55.291Z"
   },
   {
    "duration": 7,
    "start_time": "2023-09-12T15:44:55.309Z"
   },
   {
    "duration": 45,
    "start_time": "2023-09-12T15:44:55.317Z"
   },
   {
    "duration": 13,
    "start_time": "2023-09-12T15:44:55.363Z"
   },
   {
    "duration": 22,
    "start_time": "2023-09-12T15:44:55.378Z"
   },
   {
    "duration": 22,
    "start_time": "2023-09-12T15:44:55.403Z"
   },
   {
    "duration": 54,
    "start_time": "2023-09-12T15:44:55.426Z"
   },
   {
    "duration": 41,
    "start_time": "2023-09-12T15:44:55.481Z"
   },
   {
    "duration": 42,
    "start_time": "2023-09-12T15:44:55.524Z"
   },
   {
    "duration": 33,
    "start_time": "2023-09-12T15:44:55.568Z"
   },
   {
    "duration": 482,
    "start_time": "2023-09-12T15:46:33.399Z"
   },
   {
    "duration": 22,
    "start_time": "2023-09-12T15:46:33.884Z"
   },
   {
    "duration": 15,
    "start_time": "2023-09-12T15:46:33.908Z"
   },
   {
    "duration": 26,
    "start_time": "2023-09-12T15:46:33.925Z"
   },
   {
    "duration": 38,
    "start_time": "2023-09-12T15:46:33.957Z"
   },
   {
    "duration": 3,
    "start_time": "2023-09-12T15:46:33.997Z"
   },
   {
    "duration": 20,
    "start_time": "2023-09-12T15:46:34.002Z"
   },
   {
    "duration": 8,
    "start_time": "2023-09-12T15:46:34.024Z"
   },
   {
    "duration": 17,
    "start_time": "2023-09-12T15:46:34.033Z"
   },
   {
    "duration": 10,
    "start_time": "2023-09-12T15:46:34.053Z"
   },
   {
    "duration": 39,
    "start_time": "2023-09-12T15:46:34.065Z"
   },
   {
    "duration": 10,
    "start_time": "2023-09-12T15:46:34.105Z"
   },
   {
    "duration": 4,
    "start_time": "2023-09-12T15:46:34.117Z"
   },
   {
    "duration": 37,
    "start_time": "2023-09-12T15:46:34.123Z"
   },
   {
    "duration": 26,
    "start_time": "2023-09-12T15:46:34.162Z"
   },
   {
    "duration": 17,
    "start_time": "2023-09-12T15:46:34.189Z"
   },
   {
    "duration": 4,
    "start_time": "2023-09-12T15:46:34.207Z"
   },
   {
    "duration": 16,
    "start_time": "2023-09-12T15:46:34.213Z"
   },
   {
    "duration": 20,
    "start_time": "2023-09-12T15:46:34.231Z"
   },
   {
    "duration": 3,
    "start_time": "2023-09-12T15:46:34.259Z"
   },
   {
    "duration": 17,
    "start_time": "2023-09-12T15:46:34.263Z"
   },
   {
    "duration": 6,
    "start_time": "2023-09-12T15:46:34.282Z"
   },
   {
    "duration": 35,
    "start_time": "2023-09-12T15:46:34.290Z"
   },
   {
    "duration": 59,
    "start_time": "2023-09-12T15:46:34.327Z"
   },
   {
    "duration": 30,
    "start_time": "2023-09-12T15:46:34.388Z"
   },
   {
    "duration": 26,
    "start_time": "2023-09-12T15:48:37.863Z"
   },
   {
    "duration": 74,
    "start_time": "2023-09-12T15:53:52.151Z"
   },
   {
    "duration": 34,
    "start_time": "2023-09-12T15:54:21.251Z"
   },
   {
    "duration": 9,
    "start_time": "2023-09-12T15:56:38.879Z"
   },
   {
    "duration": 15,
    "start_time": "2023-09-12T15:56:50.074Z"
   },
   {
    "duration": 23,
    "start_time": "2023-09-12T15:57:16.441Z"
   },
   {
    "duration": 22,
    "start_time": "2023-09-12T16:01:14.086Z"
   },
   {
    "duration": 527,
    "start_time": "2023-09-12T16:01:32.710Z"
   },
   {
    "duration": 24,
    "start_time": "2023-09-12T16:01:33.239Z"
   },
   {
    "duration": 39,
    "start_time": "2023-09-12T16:01:33.264Z"
   },
   {
    "duration": 13,
    "start_time": "2023-09-12T16:01:33.305Z"
   },
   {
    "duration": 36,
    "start_time": "2023-09-12T16:01:33.320Z"
   },
   {
    "duration": 4,
    "start_time": "2023-09-12T16:01:33.358Z"
   },
   {
    "duration": 10,
    "start_time": "2023-09-12T16:01:33.364Z"
   },
   {
    "duration": 7,
    "start_time": "2023-09-12T16:01:33.376Z"
   },
   {
    "duration": 11,
    "start_time": "2023-09-12T16:01:33.384Z"
   },
   {
    "duration": 5,
    "start_time": "2023-09-12T16:01:33.398Z"
   },
   {
    "duration": 56,
    "start_time": "2023-09-12T16:01:33.405Z"
   },
   {
    "duration": 10,
    "start_time": "2023-09-12T16:01:33.463Z"
   },
   {
    "duration": 18,
    "start_time": "2023-09-12T16:01:33.474Z"
   },
   {
    "duration": 17,
    "start_time": "2023-09-12T16:01:33.494Z"
   },
   {
    "duration": 24,
    "start_time": "2023-09-12T16:01:33.512Z"
   },
   {
    "duration": 30,
    "start_time": "2023-09-12T16:01:33.537Z"
   },
   {
    "duration": 5,
    "start_time": "2023-09-12T16:01:33.569Z"
   },
   {
    "duration": 27,
    "start_time": "2023-09-12T16:01:33.575Z"
   },
   {
    "duration": 7,
    "start_time": "2023-09-12T16:01:33.605Z"
   },
   {
    "duration": 10,
    "start_time": "2023-09-12T16:01:33.614Z"
   },
   {
    "duration": 18,
    "start_time": "2023-09-12T16:01:33.626Z"
   },
   {
    "duration": 29,
    "start_time": "2023-09-12T16:01:33.646Z"
   },
   {
    "duration": 61,
    "start_time": "2023-09-12T16:01:33.677Z"
   },
   {
    "duration": 42,
    "start_time": "2023-09-12T16:01:33.743Z"
   },
   {
    "duration": 31,
    "start_time": "2023-09-12T16:01:33.788Z"
   },
   {
    "duration": 40,
    "start_time": "2023-09-12T16:01:54.813Z"
   },
   {
    "duration": 27,
    "start_time": "2023-09-12T16:05:52.296Z"
   },
   {
    "duration": 27,
    "start_time": "2023-09-12T16:06:50.569Z"
   },
   {
    "duration": 26,
    "start_time": "2023-09-12T16:07:20.938Z"
   },
   {
    "duration": 32,
    "start_time": "2023-09-12T16:09:47.127Z"
   },
   {
    "duration": 28,
    "start_time": "2023-09-12T16:11:57.590Z"
   },
   {
    "duration": 37,
    "start_time": "2023-09-12T16:13:20.147Z"
   },
   {
    "duration": 28,
    "start_time": "2023-09-12T16:17:15.402Z"
   },
   {
    "duration": 28,
    "start_time": "2023-09-12T16:19:21.438Z"
   },
   {
    "duration": 42,
    "start_time": "2023-09-12T16:24:41.096Z"
   },
   {
    "duration": 24,
    "start_time": "2023-09-12T16:25:08.769Z"
   },
   {
    "duration": 93,
    "start_time": "2023-09-12T16:26:59.636Z"
   },
   {
    "duration": 8,
    "start_time": "2023-09-12T16:28:15.349Z"
   },
   {
    "duration": 31,
    "start_time": "2023-09-12T16:31:08.215Z"
   },
   {
    "duration": 26,
    "start_time": "2023-09-12T16:31:49.458Z"
   },
   {
    "duration": 34,
    "start_time": "2023-09-12T16:32:15.375Z"
   },
   {
    "duration": 31,
    "start_time": "2023-09-12T16:33:32.300Z"
   },
   {
    "duration": 30,
    "start_time": "2023-09-12T16:34:17.674Z"
   },
   {
    "duration": 33,
    "start_time": "2023-09-12T16:34:39.724Z"
   },
   {
    "duration": 26,
    "start_time": "2023-09-12T16:34:49.184Z"
   },
   {
    "duration": 25,
    "start_time": "2023-09-12T16:35:26.714Z"
   },
   {
    "duration": 27,
    "start_time": "2023-09-12T16:36:21.922Z"
   },
   {
    "duration": 21,
    "start_time": "2023-09-12T16:48:31.702Z"
   },
   {
    "duration": 20,
    "start_time": "2023-09-12T16:52:05.532Z"
   },
   {
    "duration": 22,
    "start_time": "2023-09-12T16:53:10.752Z"
   },
   {
    "duration": 21,
    "start_time": "2023-09-12T16:53:57.150Z"
   },
   {
    "duration": 14,
    "start_time": "2023-09-12T16:54:49.389Z"
   },
   {
    "duration": 14,
    "start_time": "2023-09-12T16:54:59.301Z"
   },
   {
    "duration": 550,
    "start_time": "2023-09-12T16:55:14.017Z"
   },
   {
    "duration": 29,
    "start_time": "2023-09-12T16:55:14.570Z"
   },
   {
    "duration": 19,
    "start_time": "2023-09-12T16:55:14.601Z"
   },
   {
    "duration": 27,
    "start_time": "2023-09-12T16:55:14.623Z"
   },
   {
    "duration": 56,
    "start_time": "2023-09-12T16:55:14.653Z"
   },
   {
    "duration": 4,
    "start_time": "2023-09-12T16:55:14.710Z"
   },
   {
    "duration": 28,
    "start_time": "2023-09-12T16:55:14.715Z"
   },
   {
    "duration": 22,
    "start_time": "2023-09-12T16:55:14.745Z"
   },
   {
    "duration": 18,
    "start_time": "2023-09-12T16:55:14.769Z"
   },
   {
    "duration": 16,
    "start_time": "2023-09-12T16:55:14.790Z"
   },
   {
    "duration": 56,
    "start_time": "2023-09-12T16:55:14.807Z"
   },
   {
    "duration": 11,
    "start_time": "2023-09-12T16:55:14.865Z"
   },
   {
    "duration": 27,
    "start_time": "2023-09-12T16:55:14.877Z"
   },
   {
    "duration": 40,
    "start_time": "2023-09-12T16:55:14.906Z"
   },
   {
    "duration": 37,
    "start_time": "2023-09-12T16:55:14.948Z"
   },
   {
    "duration": 17,
    "start_time": "2023-09-12T16:55:14.987Z"
   },
   {
    "duration": 49,
    "start_time": "2023-09-12T16:55:15.006Z"
   },
   {
    "duration": 29,
    "start_time": "2023-09-12T16:55:15.057Z"
   },
   {
    "duration": 20,
    "start_time": "2023-09-12T16:55:15.087Z"
   },
   {
    "duration": 30,
    "start_time": "2023-09-12T16:55:15.108Z"
   },
   {
    "duration": 35,
    "start_time": "2023-09-12T16:55:15.139Z"
   },
   {
    "duration": 40,
    "start_time": "2023-09-12T16:55:15.176Z"
   },
   {
    "duration": 78,
    "start_time": "2023-09-12T16:55:15.218Z"
   },
   {
    "duration": 0,
    "start_time": "2023-09-12T16:55:15.298Z"
   },
   {
    "duration": 0,
    "start_time": "2023-09-12T16:55:15.299Z"
   },
   {
    "duration": 22,
    "start_time": "2023-09-12T16:56:05.935Z"
   },
   {
    "duration": 15,
    "start_time": "2023-09-12T16:56:35.504Z"
   },
   {
    "duration": 22,
    "start_time": "2023-09-12T16:57:10.285Z"
   },
   {
    "duration": 14,
    "start_time": "2023-09-12T16:57:23.096Z"
   },
   {
    "duration": 21,
    "start_time": "2023-09-12T16:57:38.008Z"
   },
   {
    "duration": 21,
    "start_time": "2023-09-12T16:58:38.618Z"
   },
   {
    "duration": 456,
    "start_time": "2023-09-12T16:59:50.702Z"
   },
   {
    "duration": 23,
    "start_time": "2023-09-12T16:59:51.160Z"
   },
   {
    "duration": 29,
    "start_time": "2023-09-12T16:59:51.185Z"
   },
   {
    "duration": 33,
    "start_time": "2023-09-12T16:59:51.215Z"
   },
   {
    "duration": 48,
    "start_time": "2023-09-12T16:59:51.250Z"
   },
   {
    "duration": 25,
    "start_time": "2023-09-12T16:59:51.299Z"
   },
   {
    "duration": 60,
    "start_time": "2023-09-12T16:59:51.326Z"
   },
   {
    "duration": 25,
    "start_time": "2023-09-12T16:59:51.388Z"
   },
   {
    "duration": 31,
    "start_time": "2023-09-12T16:59:51.415Z"
   },
   {
    "duration": 22,
    "start_time": "2023-09-12T16:59:51.448Z"
   },
   {
    "duration": 59,
    "start_time": "2023-09-12T16:59:51.472Z"
   },
   {
    "duration": 20,
    "start_time": "2023-09-12T16:59:51.532Z"
   },
   {
    "duration": 16,
    "start_time": "2023-09-12T16:59:51.553Z"
   },
   {
    "duration": 28,
    "start_time": "2023-09-12T16:59:51.571Z"
   },
   {
    "duration": 47,
    "start_time": "2023-09-12T16:59:51.601Z"
   },
   {
    "duration": 29,
    "start_time": "2023-09-12T16:59:51.651Z"
   },
   {
    "duration": 35,
    "start_time": "2023-09-12T16:59:51.681Z"
   },
   {
    "duration": 35,
    "start_time": "2023-09-12T16:59:51.717Z"
   },
   {
    "duration": 26,
    "start_time": "2023-09-12T16:59:51.753Z"
   },
   {
    "duration": 29,
    "start_time": "2023-09-12T16:59:51.781Z"
   },
   {
    "duration": 26,
    "start_time": "2023-09-12T16:59:51.812Z"
   },
   {
    "duration": 51,
    "start_time": "2023-09-12T16:59:51.840Z"
   },
   {
    "duration": 46,
    "start_time": "2023-09-12T16:59:51.892Z"
   },
   {
    "duration": 56,
    "start_time": "2023-09-12T16:59:51.939Z"
   },
   {
    "duration": 89,
    "start_time": "2023-09-12T16:59:51.997Z"
   },
   {
    "duration": 21,
    "start_time": "2023-09-12T17:01:26.767Z"
   },
   {
    "duration": 77,
    "start_time": "2023-09-12T17:04:28.547Z"
   },
   {
    "duration": 21,
    "start_time": "2023-09-12T17:04:44.869Z"
   },
   {
    "duration": 18,
    "start_time": "2023-09-12T17:05:05.589Z"
   },
   {
    "duration": 20,
    "start_time": "2023-09-12T17:05:30.286Z"
   },
   {
    "duration": 482,
    "start_time": "2023-09-12T17:06:37.657Z"
   },
   {
    "duration": 22,
    "start_time": "2023-09-12T17:06:38.141Z"
   },
   {
    "duration": 46,
    "start_time": "2023-09-12T17:06:38.164Z"
   },
   {
    "duration": 15,
    "start_time": "2023-09-12T17:06:38.212Z"
   },
   {
    "duration": 44,
    "start_time": "2023-09-12T17:06:38.229Z"
   },
   {
    "duration": 3,
    "start_time": "2023-09-12T17:06:38.275Z"
   },
   {
    "duration": 12,
    "start_time": "2023-09-12T17:06:38.280Z"
   },
   {
    "duration": 4,
    "start_time": "2023-09-12T17:06:38.294Z"
   },
   {
    "duration": 20,
    "start_time": "2023-09-12T17:06:38.300Z"
   },
   {
    "duration": 5,
    "start_time": "2023-09-12T17:06:38.322Z"
   },
   {
    "duration": 41,
    "start_time": "2023-09-12T17:06:38.328Z"
   },
   {
    "duration": 10,
    "start_time": "2023-09-12T17:06:38.371Z"
   },
   {
    "duration": 3,
    "start_time": "2023-09-12T17:06:38.383Z"
   },
   {
    "duration": 23,
    "start_time": "2023-09-12T17:06:38.387Z"
   },
   {
    "duration": 31,
    "start_time": "2023-09-12T17:06:38.412Z"
   },
   {
    "duration": 17,
    "start_time": "2023-09-12T17:06:38.445Z"
   },
   {
    "duration": 4,
    "start_time": "2023-09-12T17:06:38.464Z"
   },
   {
    "duration": 19,
    "start_time": "2023-09-12T17:06:38.470Z"
   },
   {
    "duration": 6,
    "start_time": "2023-09-12T17:06:38.491Z"
   },
   {
    "duration": 8,
    "start_time": "2023-09-12T17:06:38.498Z"
   },
   {
    "duration": 28,
    "start_time": "2023-09-12T17:06:38.508Z"
   },
   {
    "duration": 38,
    "start_time": "2023-09-12T17:06:38.538Z"
   },
   {
    "duration": 83,
    "start_time": "2023-09-12T17:06:38.578Z"
   },
   {
    "duration": 0,
    "start_time": "2023-09-12T17:06:38.662Z"
   },
   {
    "duration": 0,
    "start_time": "2023-09-12T17:06:38.664Z"
   },
   {
    "duration": 20,
    "start_time": "2023-09-12T17:07:16.067Z"
   },
   {
    "duration": 21,
    "start_time": "2023-09-12T17:08:32.189Z"
   },
   {
    "duration": 20,
    "start_time": "2023-09-12T17:08:41.215Z"
   },
   {
    "duration": 497,
    "start_time": "2023-09-12T17:10:02.043Z"
   },
   {
    "duration": 23,
    "start_time": "2023-09-12T17:10:02.542Z"
   },
   {
    "duration": 256,
    "start_time": "2023-09-12T17:10:02.567Z"
   },
   {
    "duration": 88,
    "start_time": "2023-09-12T17:10:02.826Z"
   },
   {
    "duration": 156,
    "start_time": "2023-09-12T17:10:02.916Z"
   },
   {
    "duration": 3,
    "start_time": "2023-09-12T17:10:03.074Z"
   },
   {
    "duration": 83,
    "start_time": "2023-09-12T17:10:03.078Z"
   },
   {
    "duration": 22,
    "start_time": "2023-09-12T17:10:03.162Z"
   },
   {
    "duration": 26,
    "start_time": "2023-09-12T17:10:03.186Z"
   },
   {
    "duration": 28,
    "start_time": "2023-09-12T17:10:03.215Z"
   },
   {
    "duration": 46,
    "start_time": "2023-09-12T17:10:03.244Z"
   },
   {
    "duration": 10,
    "start_time": "2023-09-12T17:10:03.291Z"
   },
   {
    "duration": 79,
    "start_time": "2023-09-12T17:10:03.303Z"
   },
   {
    "duration": 42,
    "start_time": "2023-09-12T17:10:03.384Z"
   },
   {
    "duration": 52,
    "start_time": "2023-09-12T17:10:03.428Z"
   },
   {
    "duration": 39,
    "start_time": "2023-09-12T17:10:03.482Z"
   },
   {
    "duration": 127,
    "start_time": "2023-09-12T17:10:03.522Z"
   },
   {
    "duration": 176,
    "start_time": "2023-09-12T17:10:03.650Z"
   },
   {
    "duration": 47,
    "start_time": "2023-09-12T17:10:03.828Z"
   },
   {
    "duration": 44,
    "start_time": "2023-09-12T17:10:03.876Z"
   },
   {
    "duration": 32,
    "start_time": "2023-09-12T17:10:03.922Z"
   },
   {
    "duration": 30,
    "start_time": "2023-09-12T17:10:03.956Z"
   },
   {
    "duration": 38,
    "start_time": "2023-09-12T17:10:03.987Z"
   },
   {
    "duration": 47,
    "start_time": "2023-09-12T17:10:04.027Z"
   },
   {
    "duration": 31,
    "start_time": "2023-09-12T17:10:04.076Z"
   },
   {
    "duration": 19,
    "start_time": "2023-09-12T17:20:05.454Z"
   },
   {
    "duration": 20,
    "start_time": "2023-09-12T17:22:12.166Z"
   },
   {
    "duration": 20,
    "start_time": "2023-09-12T17:22:41.368Z"
   },
   {
    "duration": 20,
    "start_time": "2023-09-12T17:28:18.078Z"
   },
   {
    "duration": 20,
    "start_time": "2023-09-12T17:28:37.669Z"
   },
   {
    "duration": 19,
    "start_time": "2023-09-12T17:31:50.194Z"
   },
   {
    "duration": 72,
    "start_time": "2023-09-12T17:40:07.967Z"
   },
   {
    "duration": 22,
    "start_time": "2023-09-12T17:40:20.353Z"
   },
   {
    "duration": 20,
    "start_time": "2023-09-12T17:40:36.208Z"
   },
   {
    "duration": 25,
    "start_time": "2023-09-12T17:41:33.804Z"
   },
   {
    "duration": 22,
    "start_time": "2023-09-12T17:42:08.653Z"
   },
   {
    "duration": 27,
    "start_time": "2023-09-12T17:42:23.809Z"
   },
   {
    "duration": 21,
    "start_time": "2023-09-12T17:42:43.677Z"
   },
   {
    "duration": 20,
    "start_time": "2023-09-12T17:43:21.973Z"
   },
   {
    "duration": 21,
    "start_time": "2023-09-12T17:43:59.615Z"
   },
   {
    "duration": 18,
    "start_time": "2023-09-12T17:44:15.452Z"
   },
   {
    "duration": 21,
    "start_time": "2023-09-12T17:44:47.934Z"
   },
   {
    "duration": 20,
    "start_time": "2023-09-12T17:45:19.231Z"
   },
   {
    "duration": 431,
    "start_time": "2023-09-12T17:54:02.589Z"
   },
   {
    "duration": 23,
    "start_time": "2023-09-12T17:54:03.022Z"
   },
   {
    "duration": 22,
    "start_time": "2023-09-12T17:54:03.047Z"
   },
   {
    "duration": 17,
    "start_time": "2023-09-12T17:54:03.071Z"
   },
   {
    "duration": 35,
    "start_time": "2023-09-12T17:54:03.090Z"
   },
   {
    "duration": 4,
    "start_time": "2023-09-12T17:54:03.126Z"
   },
   {
    "duration": 7,
    "start_time": "2023-09-12T17:54:03.143Z"
   },
   {
    "duration": 6,
    "start_time": "2023-09-12T17:54:03.151Z"
   },
   {
    "duration": 13,
    "start_time": "2023-09-12T17:54:03.158Z"
   },
   {
    "duration": 6,
    "start_time": "2023-09-12T17:54:03.174Z"
   },
   {
    "duration": 40,
    "start_time": "2023-09-12T17:54:03.181Z"
   },
   {
    "duration": 21,
    "start_time": "2023-09-12T17:54:03.223Z"
   },
   {
    "duration": 3,
    "start_time": "2023-09-12T17:54:03.246Z"
   },
   {
    "duration": 19,
    "start_time": "2023-09-12T17:54:03.250Z"
   },
   {
    "duration": 23,
    "start_time": "2023-09-12T17:54:03.271Z"
   },
   {
    "duration": 16,
    "start_time": "2023-09-12T17:54:03.295Z"
   },
   {
    "duration": 4,
    "start_time": "2023-09-12T17:54:03.313Z"
   },
   {
    "duration": 28,
    "start_time": "2023-09-12T17:54:03.318Z"
   },
   {
    "duration": 9,
    "start_time": "2023-09-12T17:54:03.347Z"
   },
   {
    "duration": 30,
    "start_time": "2023-09-12T17:54:03.357Z"
   },
   {
    "duration": 24,
    "start_time": "2023-09-12T17:54:03.389Z"
   },
   {
    "duration": 30,
    "start_time": "2023-09-12T17:54:03.415Z"
   },
   {
    "duration": 20,
    "start_time": "2023-09-12T17:54:03.447Z"
   },
   {
    "duration": 51,
    "start_time": "2023-09-12T17:54:03.468Z"
   },
   {
    "duration": 41,
    "start_time": "2023-09-12T17:54:03.521Z"
   },
   {
    "duration": 30,
    "start_time": "2023-09-12T17:54:03.564Z"
   }
  ],
  "colab": {
   "provenance": []
  },
  "kernelspec": {
   "display_name": "Python 3 (ipykernel)",
   "language": "python",
   "name": "python3"
  },
  "language_info": {
   "codemirror_mode": {
    "name": "ipython",
    "version": 3
   },
   "file_extension": ".py",
   "mimetype": "text/x-python",
   "name": "python",
   "nbconvert_exporter": "python",
   "pygments_lexer": "ipython3",
   "version": "3.9.5"
  },
  "toc": {
   "base_numbering": 1,
   "nav_menu": {},
   "number_sections": true,
   "sideBar": true,
   "skip_h1_title": true,
   "title_cell": "Table of Contents",
   "title_sidebar": "Contents",
   "toc_cell": false,
   "toc_position": {},
   "toc_section_display": true,
   "toc_window_display": false
  }
 },
 "nbformat": 4,
 "nbformat_minor": 5
}
